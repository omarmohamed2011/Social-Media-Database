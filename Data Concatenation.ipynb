{
 "cells": [
  {
   "cell_type": "code",
   "execution_count": 1,
   "metadata": {
    "collapsed": true,
    "ExecuteTime": {
     "end_time": "2023-08-29T13:51:15.159168700Z",
     "start_time": "2023-08-29T13:51:14.557876800Z"
    }
   },
   "outputs": [],
   "source": [
    "import pandas as pd\n",
    "import glob\n",
    "import os\n",
    "from datetime import datetime,timedelta"
   ]
  },
  {
   "cell_type": "code",
   "execution_count": 2,
   "outputs": [],
   "source": [
    "current_datetime = datetime.now()"
   ],
   "metadata": {
    "collapsed": false,
    "ExecuteTime": {
     "end_time": "2023-08-29T13:51:15.174788400Z",
     "start_time": "2023-08-29T13:51:15.159168700Z"
    }
   }
  },
  {
   "cell_type": "code",
   "execution_count": 3,
   "outputs": [
    {
     "data": {
      "text/plain": "'Tuesday'"
     },
     "execution_count": 3,
     "metadata": {},
     "output_type": "execute_result"
    }
   ],
   "source": [
    "day_name = current_datetime.strftime(\"%A\")\n",
    "day_name"
   ],
   "metadata": {
    "collapsed": false,
    "ExecuteTime": {
     "end_time": "2023-08-29T13:51:15.274704700Z",
     "start_time": "2023-08-29T13:51:15.174788400Z"
    }
   }
  },
  {
   "cell_type": "code",
   "execution_count": 4,
   "outputs": [],
   "source": [
    "if day_name == 'Saturday':\n",
    "    print(1)"
   ],
   "metadata": {
    "collapsed": false,
    "ExecuteTime": {
     "end_time": "2023-08-29T13:51:15.371020100Z",
     "start_time": "2023-08-29T13:51:15.274704700Z"
    }
   }
  },
  {
   "cell_type": "code",
   "execution_count": 5,
   "outputs": [],
   "source": [
    "path_files = 'Extracted SocialMediaComments/Assignments/07-17-to-08-29/*'\n",
    "#path_files.append()"
   ],
   "metadata": {
    "collapsed": false,
    "ExecuteTime": {
     "end_time": "2023-08-29T13:51:41.200358700Z",
     "start_time": "2023-08-29T13:51:41.182396500Z"
    }
   }
  },
  {
   "cell_type": "code",
   "execution_count": 6,
   "outputs": [
    {
     "data": {
      "text/plain": "['Extracted SocialMediaComments/Assignments/07-17-to-08-29\\\\Agora_std.csv',\n 'Extracted SocialMediaComments/Assignments/07-17-to-08-29\\\\Meta-Data.xlsx']"
     },
     "execution_count": 6,
     "metadata": {},
     "output_type": "execute_result"
    }
   ],
   "source": [
    "## add here path to all files you want to concatenate and get insight from\n",
    "#path_files = 'Extracted SocialMediaComments/Assignments/Meta-Data/*.csv'\n",
    "\n",
    "path_files = glob.glob(path_files)[:]\n",
    "path_files"
   ],
   "metadata": {
    "collapsed": false,
    "ExecuteTime": {
     "end_time": "2023-08-29T13:51:41.764820800Z",
     "start_time": "2023-08-29T13:51:41.733572200Z"
    }
   }
  },
  {
   "cell_type": "code",
   "execution_count": 7,
   "outputs": [],
   "source": [
    "dfs = []\n",
    "\n",
    "for path1 in path_files:\n",
    "    try:\n",
    "        dfs.append(pd.read_csv(path1))\n",
    "    except:\n",
    "        dfs.append(pd.read_excel(path1))"
   ],
   "metadata": {
    "collapsed": false,
    "ExecuteTime": {
     "end_time": "2023-08-29T13:51:47.093192200Z",
     "start_time": "2023-08-29T13:51:44.862239600Z"
    }
   }
  },
  {
   "cell_type": "code",
   "execution_count": 8,
   "outputs": [
    {
     "data": {
      "text/plain": "      Platform    Business Unit  \\\n0     FaceBook              ADC   \n1     FaceBook              ADC   \n2     FaceBook              ADC   \n3     FaceBook              ADC   \n4     FaceBook              ADC   \n...        ...              ...   \n2309   Youtube  Andalusia_Egypt   \n2310   Youtube  Andalusia_Egypt   \n2311   Youtube  Andalusia_Egypt   \n2312   Youtube  Andalusia_Egypt   \n2313   Youtube  Andalusia_Egypt   \n\n                                                message  \\\n0                                 Have bupa insurance..   \n1         كم سعر الزراعة مع التركيبة وما هو نوع الزرعة؟   \n2                                                    تم   \n3                                    كم سعر السن الواحد   \n4                                     زراعة سن واحد بكم   \n...                                                 ...   \n2309                                 هل يسبب تأخر الحمل   \n2310  سلام عليكم دكتور انا الدكتور بتاعي قال لي عاوز...   \n2311            صوت الموسيقى مزعج جدا لا يتركنا نسمع شئ   \n2312       لو سمحتم ارقام التليفونات للتواصل والاستفسار   \n2313                        الصفائح الدموية عندي فقط 35   \n\n                  Comment Author            Current date  \\\n0               Jenebert Barneja 2023-08-10 10:14:19.992   \n1               Amjad Ali Saifan 2023-08-10 22:29:50.875   \n2                     فهمي مكاوي 2023-08-10 20:29:50.875   \n3                      أحمد خيري 2023-08-11 23:45:19.437   \n4          سلطان ابراهيم الرشيدي 2023-08-11 21:45:19.437   \n...                          ...                     ...   \n2309                 Abrahm Badh 2023-08-10 20:29:50.875   \n2310               Ahmed Abdalem 2023-08-10 18:29:50.875   \n2311             Cosmétiques Bio 2023-08-10 17:29:50.875   \n2312  مع حواء من الألف إلى الياء 2023-08-10 10:14:19.992   \n2313           ڪرٍآرٍ آلُِشُمرٍي 2023-08-19 00:02:12.167   \n\n                                tags        ALL_Categories  message_state  \n0     Reception / Insurance Feedback     Insurance-Inquiry  Shown_comment  \n1                              Price         Price-Inquiry  Shown_comment  \n2                                     General Conversation  Shown_comment  \n3            Price / Doctor Feedback       Mixed-Inquiries  Shown_comment  \n4            Price / Doctor Feedback       Mixed-Inquiries  Shown_comment  \n...                              ...                   ...            ...  \n2309                 Doctor Feedback  Medical-Consultation  Shown_comment  \n2310      Doctor Feedback / WaitTime       Mixed-Inquiries  Shown_comment  \n2311                 Doctor Feedback     Negative-Feedback  Shown_comment  \n2312                       Reception       Booking-Inquiry  Shown_comment  \n2313                                       General-Inquiry  Shown_comment  \n\n[2314 rows x 8 columns]",
      "text/html": "<div>\n<style scoped>\n    .dataframe tbody tr th:only-of-type {\n        vertical-align: middle;\n    }\n\n    .dataframe tbody tr th {\n        vertical-align: top;\n    }\n\n    .dataframe thead th {\n        text-align: right;\n    }\n</style>\n<table border=\"1\" class=\"dataframe\">\n  <thead>\n    <tr style=\"text-align: right;\">\n      <th></th>\n      <th>Platform</th>\n      <th>Business Unit</th>\n      <th>message</th>\n      <th>Comment Author</th>\n      <th>Current date</th>\n      <th>tags</th>\n      <th>ALL_Categories</th>\n      <th>message_state</th>\n    </tr>\n  </thead>\n  <tbody>\n    <tr>\n      <th>0</th>\n      <td>FaceBook</td>\n      <td>ADC</td>\n      <td>Have bupa insurance..</td>\n      <td>Jenebert Barneja</td>\n      <td>2023-08-10 10:14:19.992</td>\n      <td>Reception / Insurance Feedback</td>\n      <td>Insurance-Inquiry</td>\n      <td>Shown_comment</td>\n    </tr>\n    <tr>\n      <th>1</th>\n      <td>FaceBook</td>\n      <td>ADC</td>\n      <td>كم سعر الزراعة مع التركيبة وما هو نوع الزرعة؟</td>\n      <td>Amjad Ali Saifan</td>\n      <td>2023-08-10 22:29:50.875</td>\n      <td>Price</td>\n      <td>Price-Inquiry</td>\n      <td>Shown_comment</td>\n    </tr>\n    <tr>\n      <th>2</th>\n      <td>FaceBook</td>\n      <td>ADC</td>\n      <td>تم</td>\n      <td>فهمي مكاوي</td>\n      <td>2023-08-10 20:29:50.875</td>\n      <td></td>\n      <td>General Conversation</td>\n      <td>Shown_comment</td>\n    </tr>\n    <tr>\n      <th>3</th>\n      <td>FaceBook</td>\n      <td>ADC</td>\n      <td>كم سعر السن الواحد</td>\n      <td>أحمد خيري</td>\n      <td>2023-08-11 23:45:19.437</td>\n      <td>Price / Doctor Feedback</td>\n      <td>Mixed-Inquiries</td>\n      <td>Shown_comment</td>\n    </tr>\n    <tr>\n      <th>4</th>\n      <td>FaceBook</td>\n      <td>ADC</td>\n      <td>زراعة سن واحد بكم</td>\n      <td>سلطان ابراهيم الرشيدي</td>\n      <td>2023-08-11 21:45:19.437</td>\n      <td>Price / Doctor Feedback</td>\n      <td>Mixed-Inquiries</td>\n      <td>Shown_comment</td>\n    </tr>\n    <tr>\n      <th>...</th>\n      <td>...</td>\n      <td>...</td>\n      <td>...</td>\n      <td>...</td>\n      <td>...</td>\n      <td>...</td>\n      <td>...</td>\n      <td>...</td>\n    </tr>\n    <tr>\n      <th>2309</th>\n      <td>Youtube</td>\n      <td>Andalusia_Egypt</td>\n      <td>هل يسبب تأخر الحمل</td>\n      <td>Abrahm Badh</td>\n      <td>2023-08-10 20:29:50.875</td>\n      <td>Doctor Feedback</td>\n      <td>Medical-Consultation</td>\n      <td>Shown_comment</td>\n    </tr>\n    <tr>\n      <th>2310</th>\n      <td>Youtube</td>\n      <td>Andalusia_Egypt</td>\n      <td>سلام عليكم دكتور انا الدكتور بتاعي قال لي عاوز...</td>\n      <td>Ahmed Abdalem</td>\n      <td>2023-08-10 18:29:50.875</td>\n      <td>Doctor Feedback / WaitTime</td>\n      <td>Mixed-Inquiries</td>\n      <td>Shown_comment</td>\n    </tr>\n    <tr>\n      <th>2311</th>\n      <td>Youtube</td>\n      <td>Andalusia_Egypt</td>\n      <td>صوت الموسيقى مزعج جدا لا يتركنا نسمع شئ</td>\n      <td>Cosmétiques Bio</td>\n      <td>2023-08-10 17:29:50.875</td>\n      <td>Doctor Feedback</td>\n      <td>Negative-Feedback</td>\n      <td>Shown_comment</td>\n    </tr>\n    <tr>\n      <th>2312</th>\n      <td>Youtube</td>\n      <td>Andalusia_Egypt</td>\n      <td>لو سمحتم ارقام التليفونات للتواصل والاستفسار</td>\n      <td>مع حواء من الألف إلى الياء</td>\n      <td>2023-08-10 10:14:19.992</td>\n      <td>Reception</td>\n      <td>Booking-Inquiry</td>\n      <td>Shown_comment</td>\n    </tr>\n    <tr>\n      <th>2313</th>\n      <td>Youtube</td>\n      <td>Andalusia_Egypt</td>\n      <td>الصفائح الدموية عندي فقط 35</td>\n      <td>ڪرٍآرٍ آلُِشُمرٍي</td>\n      <td>2023-08-19 00:02:12.167</td>\n      <td></td>\n      <td>General-Inquiry</td>\n      <td>Shown_comment</td>\n    </tr>\n  </tbody>\n</table>\n<p>2314 rows × 8 columns</p>\n</div>"
     },
     "execution_count": 8,
     "metadata": {},
     "output_type": "execute_result"
    }
   ],
   "source": [
    "dfs[1]"
   ],
   "metadata": {
    "collapsed": false,
    "ExecuteTime": {
     "end_time": "2023-08-29T13:51:47.809714300Z",
     "start_time": "2023-08-29T13:51:47.778471700Z"
    }
   }
  },
  {
   "cell_type": "code",
   "execution_count": 9,
   "outputs": [
    {
     "data": {
      "text/plain": "     Platform    Business Unit  \\\n0    FaceBook              ADC   \n1    FaceBook              ADC   \n2    FaceBook              ADC   \n3    FaceBook              ADC   \n4    FaceBook              ADC   \n..        ...              ...   \n133   Youtube  Andalusia_Egypt   \n134   Youtube  Andalusia_Egypt   \n135   Youtube  Andalusia_Egypt   \n136   Youtube  Andalusia_Egypt   \n137   Youtube  Andalusia_Egypt   \n\n                                               message     Comment Author  \\\n0                                               👋👋👋👋👋👋      Sanillah Khan   \n1                                                 2500        السيد السيد   \n2                                           اسن الواحد        السيد السيد   \n3                                           کل کم ایجی          Amir Zada   \n4                  سلام عليكم ورحمه الله تعالى وبركاته          امير الضو   \n..                                                 ...                ...   \n133                              فى ألم جامد بعد البنج       حمص ابو هلول   \n134  بالنسبة للجنتل برو هو نفسه الجنتل ماكس !؟ و اي...    إيمان أحمد عبيد   \n135  لوسمحت يادكتور امي عملت استئصال القولون الصاعد...  محمد ابراهيم يوسف   \n136  لوسمحت ممكن اعرف بعد اذنك ولدتي بتاخذ كيماوي و...  محمد ابراهيم يوسف   \n137  من فضلك يادكتور لو ورم عالرئة حجمه سم ونص وبدأ...         Kholud Ali   \n\n                   Current date  \\\n0    2023-08-23 20:19:43.514720   \n1    2023-08-23 20:19:43.514720   \n2    2023-08-23 20:19:43.514720   \n3    2023-08-23 17:19:43.514720   \n4    2023-08-23 21:19:43.514720   \n..                          ...   \n133  2023-08-26 01:51:19.823061   \n134  2023-08-25 04:35:30.488541   \n135  2023-08-24 20:35:30.488541   \n136  2023-08-24 20:35:30.488541   \n137  2023-08-26 00:51:19.823061   \n\n                                               cleaned predicted  \\\n0                                                  NaN       obj   \n1                                                 2500       obj   \n2                                           اسن الواحد       obj   \n3                                           کل کم ایجی       obj   \n4                  سلام عليكم ورحمه الله تعالي وبركاته       obj   \n..                                                 ...       ...   \n133                              في الم جامد بعد البنج       obj   \n134  بالنسبه للجنتل برو هو نفسه الجنتل ماكس و ايهما...       obj   \n135  لوسمحت يا دكتور امي عملت استئصال القولون الصاع...       obj   \n136  لوسمحت ممكن اعرف بعد اذنك ولدتي بتاخذ كيماوي و...       obj   \n137  من فضلك يا دكتور لو ورم عالرئه حجمه سم ونص وبد...       obj   \n\n                           tags  inquiry        ALL_Categories  message_state  \n0                                      0  General Conversation  Shown_comment  \n1                                      0  General Conversation  Shown_comment  \n2                                      0  General Conversation  Shown_comment  \n3                                      0  General Conversation  Shown_comment  \n4                                      0  General Conversation  Shown_comment  \n..                          ...      ...                   ...            ...  \n133             Doctor Feedback        1  Medical-Consultation  Shown_comment  \n134                   Reception        1       Booking-Inquiry  Shown_comment  \n135             Doctor Feedback        1  Medical-Consultation  Shown_comment  \n136                                    1       General-Inquiry  Shown_comment  \n137  Doctor Feedback / Hospital        1       Mixed-Inquiries  Shown_comment  \n\n[138 rows x 11 columns]",
      "text/html": "<div>\n<style scoped>\n    .dataframe tbody tr th:only-of-type {\n        vertical-align: middle;\n    }\n\n    .dataframe tbody tr th {\n        vertical-align: top;\n    }\n\n    .dataframe thead th {\n        text-align: right;\n    }\n</style>\n<table border=\"1\" class=\"dataframe\">\n  <thead>\n    <tr style=\"text-align: right;\">\n      <th></th>\n      <th>Platform</th>\n      <th>Business Unit</th>\n      <th>message</th>\n      <th>Comment Author</th>\n      <th>Current date</th>\n      <th>cleaned</th>\n      <th>predicted</th>\n      <th>tags</th>\n      <th>inquiry</th>\n      <th>ALL_Categories</th>\n      <th>message_state</th>\n    </tr>\n  </thead>\n  <tbody>\n    <tr>\n      <th>0</th>\n      <td>FaceBook</td>\n      <td>ADC</td>\n      <td>👋👋👋👋👋👋</td>\n      <td>Sanillah Khan</td>\n      <td>2023-08-23 20:19:43.514720</td>\n      <td>NaN</td>\n      <td>obj</td>\n      <td></td>\n      <td>0</td>\n      <td>General Conversation</td>\n      <td>Shown_comment</td>\n    </tr>\n    <tr>\n      <th>1</th>\n      <td>FaceBook</td>\n      <td>ADC</td>\n      <td>2500</td>\n      <td>السيد السيد</td>\n      <td>2023-08-23 20:19:43.514720</td>\n      <td>2500</td>\n      <td>obj</td>\n      <td></td>\n      <td>0</td>\n      <td>General Conversation</td>\n      <td>Shown_comment</td>\n    </tr>\n    <tr>\n      <th>2</th>\n      <td>FaceBook</td>\n      <td>ADC</td>\n      <td>اسن الواحد</td>\n      <td>السيد السيد</td>\n      <td>2023-08-23 20:19:43.514720</td>\n      <td>اسن الواحد</td>\n      <td>obj</td>\n      <td></td>\n      <td>0</td>\n      <td>General Conversation</td>\n      <td>Shown_comment</td>\n    </tr>\n    <tr>\n      <th>3</th>\n      <td>FaceBook</td>\n      <td>ADC</td>\n      <td>کل کم ایجی</td>\n      <td>Amir Zada</td>\n      <td>2023-08-23 17:19:43.514720</td>\n      <td>کل کم ایجی</td>\n      <td>obj</td>\n      <td></td>\n      <td>0</td>\n      <td>General Conversation</td>\n      <td>Shown_comment</td>\n    </tr>\n    <tr>\n      <th>4</th>\n      <td>FaceBook</td>\n      <td>ADC</td>\n      <td>سلام عليكم ورحمه الله تعالى وبركاته</td>\n      <td>امير الضو</td>\n      <td>2023-08-23 21:19:43.514720</td>\n      <td>سلام عليكم ورحمه الله تعالي وبركاته</td>\n      <td>obj</td>\n      <td></td>\n      <td>0</td>\n      <td>General Conversation</td>\n      <td>Shown_comment</td>\n    </tr>\n    <tr>\n      <th>...</th>\n      <td>...</td>\n      <td>...</td>\n      <td>...</td>\n      <td>...</td>\n      <td>...</td>\n      <td>...</td>\n      <td>...</td>\n      <td>...</td>\n      <td>...</td>\n      <td>...</td>\n      <td>...</td>\n    </tr>\n    <tr>\n      <th>133</th>\n      <td>Youtube</td>\n      <td>Andalusia_Egypt</td>\n      <td>فى ألم جامد بعد البنج</td>\n      <td>حمص ابو هلول</td>\n      <td>2023-08-26 01:51:19.823061</td>\n      <td>في الم جامد بعد البنج</td>\n      <td>obj</td>\n      <td>Doctor Feedback</td>\n      <td>1</td>\n      <td>Medical-Consultation</td>\n      <td>Shown_comment</td>\n    </tr>\n    <tr>\n      <th>134</th>\n      <td>Youtube</td>\n      <td>Andalusia_Egypt</td>\n      <td>بالنسبة للجنتل برو هو نفسه الجنتل ماكس !؟ و اي...</td>\n      <td>إيمان أحمد عبيد</td>\n      <td>2023-08-25 04:35:30.488541</td>\n      <td>بالنسبه للجنتل برو هو نفسه الجنتل ماكس و ايهما...</td>\n      <td>obj</td>\n      <td>Reception</td>\n      <td>1</td>\n      <td>Booking-Inquiry</td>\n      <td>Shown_comment</td>\n    </tr>\n    <tr>\n      <th>135</th>\n      <td>Youtube</td>\n      <td>Andalusia_Egypt</td>\n      <td>لوسمحت يادكتور امي عملت استئصال القولون الصاعد...</td>\n      <td>محمد ابراهيم يوسف</td>\n      <td>2023-08-24 20:35:30.488541</td>\n      <td>لوسمحت يا دكتور امي عملت استئصال القولون الصاع...</td>\n      <td>obj</td>\n      <td>Doctor Feedback</td>\n      <td>1</td>\n      <td>Medical-Consultation</td>\n      <td>Shown_comment</td>\n    </tr>\n    <tr>\n      <th>136</th>\n      <td>Youtube</td>\n      <td>Andalusia_Egypt</td>\n      <td>لوسمحت ممكن اعرف بعد اذنك ولدتي بتاخذ كيماوي و...</td>\n      <td>محمد ابراهيم يوسف</td>\n      <td>2023-08-24 20:35:30.488541</td>\n      <td>لوسمحت ممكن اعرف بعد اذنك ولدتي بتاخذ كيماوي و...</td>\n      <td>obj</td>\n      <td></td>\n      <td>1</td>\n      <td>General-Inquiry</td>\n      <td>Shown_comment</td>\n    </tr>\n    <tr>\n      <th>137</th>\n      <td>Youtube</td>\n      <td>Andalusia_Egypt</td>\n      <td>من فضلك يادكتور لو ورم عالرئة حجمه سم ونص وبدأ...</td>\n      <td>Kholud Ali</td>\n      <td>2023-08-26 00:51:19.823061</td>\n      <td>من فضلك يا دكتور لو ورم عالرئه حجمه سم ونص وبد...</td>\n      <td>obj</td>\n      <td>Doctor Feedback / Hospital</td>\n      <td>1</td>\n      <td>Mixed-Inquiries</td>\n      <td>Shown_comment</td>\n    </tr>\n  </tbody>\n</table>\n<p>138 rows × 11 columns</p>\n</div>"
     },
     "execution_count": 9,
     "metadata": {},
     "output_type": "execute_result"
    }
   ],
   "source": [
    "dfs[0]"
   ],
   "metadata": {
    "collapsed": false,
    "ExecuteTime": {
     "end_time": "2023-08-29T13:51:49.038661500Z",
     "start_time": "2023-08-29T13:51:49.009740500Z"
    }
   }
  },
  {
   "cell_type": "code",
   "execution_count": 10,
   "outputs": [
    {
     "data": {
      "text/plain": "     Platform    Business Unit  \\\n0    FaceBook              HJH   \n1    FaceBook              AKW   \n2    FaceBook              AKW   \n3    FaceBook              ADC   \n4    FaceBook              ADC   \n..        ...              ...   \n698   Youtube              ADC   \n699   Youtube  Andalusia_Egypt   \n700   Youtube  Andalusia_Egypt   \n701   Youtube              ADC   \n702   Youtube  Andalusia_Egypt   \n\n                                               message        Comment Author  \\\n0                                                    .          Gehad Hassan   \n1                                 ممكن سعر البالية بكم           Śamïa Salëm   \n2                                               تفاصيل          رضاك يا الله   \n3                                كم سعر زراعة ضرس واحد  Yahyamaodhah Maothah   \n4                                      مهند ياسين بكم؟            Mona Homed   \n..                                                 ...                   ...   \n698  يجماعة ادعولي عندي بالرقبة وبالابط والذراع حيل...                    َz   \n699  بالله عليك يادكتور ممكن رقم الواتس بتاع حضرتك ...         Ahmed Nashaat   \n700  اكلج عيني اني هم عندي بالابط انتي رحتي اي دكتو...                    َz   \n701  السلام عليكم دكتور أحمد \\nأنا من اليمن عندي مش...             ابن اليمن   \n702                        الصفائح الدموية عندي فقط 35     ڪرٍآرٍ آلُِشُمرٍي   \n\n                   Current date  \\\n0    2023-08-15 10:42:06.051681   \n1    2023-07-19 04:03:16.694088   \n2    2023-07-19 01:03:16.694088   \n3    2023-07-19 04:03:16.694088   \n4    2023-07-19 01:03:16.694088   \n..                          ...   \n698  2023-08-19 21:18:34.852955   \n699  2023-08-19 21:18:34.852955   \n700  2023-08-19 21:18:34.852955   \n701  2023-08-18 22:02:12.167187   \n702  2023-08-19 00:02:12.167187   \n\n                                               cleaned predicted  \\\n0                                                  NaN       obj   \n1                                 ممكن سعر الباليه بكم       obj   \n2                                               تفاصيل       obj   \n3                                كم سعر زراعه ضرس واحد       obj   \n4                                      مهند يا سين بكم       obj   \n..                                                 ...       ...   \n698  يجماعه ادعولي عندي بالرقبه وبالابط والذراع حيل...       obj   \n699  بالله عليك يا دكتور ممكن رقم الواتس بتاع حضرتك...       obj   \n700  اكلج عيني اني هم عندي بالابط انتي رحتي اي دكتو...       obj   \n701  السلام عليكم دكتور احمد انا من اليمن عندي مشكل...       obj   \n702                        الصفائح الدمويه عندي فقط 35       obj   \n\n                         tags  inquiry        ALL_Categories message_state  \n0                         NaN        0  General Conversation           NaN  \n1                      price-        1         Price-Inquiry           NaN  \n2                         NaN        1       General-Inquiry           NaN  \n3      Medical_consult-price-        1       Mixed-Inquiries           NaN  \n4                      price-        1         Price-Inquiry           NaN  \n..                        ...      ...                   ...           ...  \n698          Medical_consult-        1  Medical-Consultation           NaN  \n699  Medical_consult-Booking-        1       Mixed-Inquiries           NaN  \n700                       NaN        1       General-Inquiry           NaN  \n701          Medical_consult-        1  Medical-Consultation           NaN  \n702                       NaN        1       General-Inquiry           NaN  \n\n[703 rows x 11 columns]",
      "text/html": "<div>\n<style scoped>\n    .dataframe tbody tr th:only-of-type {\n        vertical-align: middle;\n    }\n\n    .dataframe tbody tr th {\n        vertical-align: top;\n    }\n\n    .dataframe thead th {\n        text-align: right;\n    }\n</style>\n<table border=\"1\" class=\"dataframe\">\n  <thead>\n    <tr style=\"text-align: right;\">\n      <th></th>\n      <th>Platform</th>\n      <th>Business Unit</th>\n      <th>message</th>\n      <th>Comment Author</th>\n      <th>Current date</th>\n      <th>cleaned</th>\n      <th>predicted</th>\n      <th>tags</th>\n      <th>inquiry</th>\n      <th>ALL_Categories</th>\n      <th>message_state</th>\n    </tr>\n  </thead>\n  <tbody>\n    <tr>\n      <th>0</th>\n      <td>FaceBook</td>\n      <td>HJH</td>\n      <td>.</td>\n      <td>Gehad Hassan</td>\n      <td>2023-08-15 10:42:06.051681</td>\n      <td>NaN</td>\n      <td>obj</td>\n      <td>NaN</td>\n      <td>0</td>\n      <td>General Conversation</td>\n      <td>NaN</td>\n    </tr>\n    <tr>\n      <th>1</th>\n      <td>FaceBook</td>\n      <td>AKW</td>\n      <td>ممكن سعر البالية بكم</td>\n      <td>Śamïa Salëm</td>\n      <td>2023-07-19 04:03:16.694088</td>\n      <td>ممكن سعر الباليه بكم</td>\n      <td>obj</td>\n      <td>price-</td>\n      <td>1</td>\n      <td>Price-Inquiry</td>\n      <td>NaN</td>\n    </tr>\n    <tr>\n      <th>2</th>\n      <td>FaceBook</td>\n      <td>AKW</td>\n      <td>تفاصيل</td>\n      <td>رضاك يا الله</td>\n      <td>2023-07-19 01:03:16.694088</td>\n      <td>تفاصيل</td>\n      <td>obj</td>\n      <td>NaN</td>\n      <td>1</td>\n      <td>General-Inquiry</td>\n      <td>NaN</td>\n    </tr>\n    <tr>\n      <th>3</th>\n      <td>FaceBook</td>\n      <td>ADC</td>\n      <td>كم سعر زراعة ضرس واحد</td>\n      <td>Yahyamaodhah Maothah</td>\n      <td>2023-07-19 04:03:16.694088</td>\n      <td>كم سعر زراعه ضرس واحد</td>\n      <td>obj</td>\n      <td>Medical_consult-price-</td>\n      <td>1</td>\n      <td>Mixed-Inquiries</td>\n      <td>NaN</td>\n    </tr>\n    <tr>\n      <th>4</th>\n      <td>FaceBook</td>\n      <td>ADC</td>\n      <td>مهند ياسين بكم؟</td>\n      <td>Mona Homed</td>\n      <td>2023-07-19 01:03:16.694088</td>\n      <td>مهند يا سين بكم</td>\n      <td>obj</td>\n      <td>price-</td>\n      <td>1</td>\n      <td>Price-Inquiry</td>\n      <td>NaN</td>\n    </tr>\n    <tr>\n      <th>...</th>\n      <td>...</td>\n      <td>...</td>\n      <td>...</td>\n      <td>...</td>\n      <td>...</td>\n      <td>...</td>\n      <td>...</td>\n      <td>...</td>\n      <td>...</td>\n      <td>...</td>\n      <td>...</td>\n    </tr>\n    <tr>\n      <th>698</th>\n      <td>Youtube</td>\n      <td>ADC</td>\n      <td>يجماعة ادعولي عندي بالرقبة وبالابط والذراع حيل...</td>\n      <td>َz</td>\n      <td>2023-08-19 21:18:34.852955</td>\n      <td>يجماعه ادعولي عندي بالرقبه وبالابط والذراع حيل...</td>\n      <td>obj</td>\n      <td>Medical_consult-</td>\n      <td>1</td>\n      <td>Medical-Consultation</td>\n      <td>NaN</td>\n    </tr>\n    <tr>\n      <th>699</th>\n      <td>Youtube</td>\n      <td>Andalusia_Egypt</td>\n      <td>بالله عليك يادكتور ممكن رقم الواتس بتاع حضرتك ...</td>\n      <td>Ahmed Nashaat</td>\n      <td>2023-08-19 21:18:34.852955</td>\n      <td>بالله عليك يا دكتور ممكن رقم الواتس بتاع حضرتك...</td>\n      <td>obj</td>\n      <td>Medical_consult-Booking-</td>\n      <td>1</td>\n      <td>Mixed-Inquiries</td>\n      <td>NaN</td>\n    </tr>\n    <tr>\n      <th>700</th>\n      <td>Youtube</td>\n      <td>Andalusia_Egypt</td>\n      <td>اكلج عيني اني هم عندي بالابط انتي رحتي اي دكتو...</td>\n      <td>َz</td>\n      <td>2023-08-19 21:18:34.852955</td>\n      <td>اكلج عيني اني هم عندي بالابط انتي رحتي اي دكتو...</td>\n      <td>obj</td>\n      <td>NaN</td>\n      <td>1</td>\n      <td>General-Inquiry</td>\n      <td>NaN</td>\n    </tr>\n    <tr>\n      <th>701</th>\n      <td>Youtube</td>\n      <td>ADC</td>\n      <td>السلام عليكم دكتور أحمد \\nأنا من اليمن عندي مش...</td>\n      <td>ابن اليمن</td>\n      <td>2023-08-18 22:02:12.167187</td>\n      <td>السلام عليكم دكتور احمد انا من اليمن عندي مشكل...</td>\n      <td>obj</td>\n      <td>Medical_consult-</td>\n      <td>1</td>\n      <td>Medical-Consultation</td>\n      <td>NaN</td>\n    </tr>\n    <tr>\n      <th>702</th>\n      <td>Youtube</td>\n      <td>Andalusia_Egypt</td>\n      <td>الصفائح الدموية عندي فقط 35</td>\n      <td>ڪرٍآرٍ آلُِشُمرٍي</td>\n      <td>2023-08-19 00:02:12.167187</td>\n      <td>الصفائح الدمويه عندي فقط 35</td>\n      <td>obj</td>\n      <td>NaN</td>\n      <td>1</td>\n      <td>General-Inquiry</td>\n      <td>NaN</td>\n    </tr>\n  </tbody>\n</table>\n<p>703 rows × 11 columns</p>\n</div>"
     },
     "execution_count": 10,
     "metadata": {},
     "output_type": "execute_result"
    }
   ],
   "source": [
    "#dfs[2]"
   ],
   "metadata": {
    "collapsed": false,
    "ExecuteTime": {
     "end_time": "2023-08-27T10:34:28.099699600Z",
     "start_time": "2023-08-27T10:34:28.039196Z"
    }
   }
  },
  {
   "cell_type": "code",
   "execution_count": 34,
   "outputs": [
    {
     "data": {
      "text/plain": "     Platform Business Unit  \\\n0    FaceBook           HJH   \n1    FaceBook           HJH   \n2    FaceBook           HJH   \n3    FaceBook           HJH   \n4    FaceBook           HJH   \n5    FaceBook           HJH   \n6    FaceBook           APC   \n7    FaceBook           APC   \n8    FaceBook           APC   \n9    FaceBook           APC   \n10   FaceBook           APC   \n11   FaceBook           APC   \n12   FaceBook           ADC   \n13   FaceBook           ALW   \n14   FaceBook           ALW   \n15   FaceBook           ALW   \n16   FaceBook           ALW   \n17   FaceBook           ALW   \n18   FaceBook           ALW   \n19    Twitter           AHC   \n20    Twitter           AHC   \n21    Twitter           AHC   \n22    Twitter           AHC   \n23  Instagram           HJH   \n24  Instagram           HJH   \n25  Instagram           HJH   \n26  Instagram           AKW   \n27  Instagram           AKW   \n28  Instagram           AKW   \n29  Instagram           AKW   \n30  Instagram           ADC   \n31  Instagram           ADC   \n32  Instagram           ADC   \n33  Instagram           ADC   \n34  Instagram           ADC   \n\n                                              message       Comment Author  \\\n0                             طيب سويها لك نشوف بتنزل           معتز شوباص   \n1           كم تسووها وهل هيا امنه مالها اعراض جانبيه    هشام العزي المليك   \n2                                            كم السعر         أحاول الخروج   \n3                                                  كم          Faton Ataar   \n4                             كم السعر وطريقة التوصيل   عابر سبيل الي الله   \n5   نصيحة للي يريد إنقاص وزنه \\nعليك بالرياضة والق...          Andes Mount   \n6                         فين من مكان هاذي ارس الموقع             ريان فهد   \n7                            كم عليه ظمان مده كم  سنه             ريان فهد   \n8                                     وين المكان هاذا             ريان فهد   \n9                                        السلام عليكم             ريان فهد   \n10                                           كم الكشف        الوسام لتجميل   \n11                     الله وفقك ربي يحفظك ويبارك فيك       Khalid Ibrahim   \n12                                    بكم سعر ٥ اسنان          Abrar Jihad   \n13                                        count me in      Alondra Alondra   \n14                                   بكم سعر التحاليل          يسريه البشر   \n15                                   كيف اتواصل معاكم           عاشه روحها   \n16                       انتم وين قلبي الصغير لايتحمل           عاشه روحها   \n17                                                  🙃         نواف البلوشي   \n18                                                 تم  جموله قولاوى انقاري   \n19  لا والله ليست ذكيه \\nوانها اغبى عمليه \\nاعرف ا...          9abdullah90   \n20              تخسيس صحي ومضمون ✅ 🚶 حياكم في حسابي 🍏        shahed_daaitt   \n21                                          سعرها بكم           _hilal1996   \n22                                          سلام عليك           _hilal1996   \n23                                            مين جرب             wasn5113   \n24                            سعر الولادة الطبيعة بكم              lmsyndr   \n25  بس الي بعرفه لها مضاعفات جانبية.. ومش مضمونة ا...               syr45y   \n26                     قولو بكم يطلع السن الكل يستفيد           yousef94.f   \n27                                           كم السعر           hasan19531   \n28                                    ممكن نعرف كم سن           h3esh7iaty   \n29                                          بكم الجسر         ywsfmhmd8082   \n30                                      بكم شفط البطن             kalkebsi   \n31                              طب لو ماخسرة ولا كيلو            saf.isoso   \n32                                         فين مكانكم        malakalshri09   \n33               سعر عملية التكميم كاش بكم ربي يسعدكم          thank_god55   \n34               كم سعر التحليل ؟ وكم سعر الفيتامينات            3662.amal   \n\n                  Current date  \n0   2023-07-24 10:12:28.010513  \n1   2023-07-24 10:12:28.010513  \n2   2023-07-24 06:12:28.010513  \n3   2023-07-24 05:12:28.010513  \n4   2023-07-24 00:12:28.010513  \n5   2023-07-24 00:12:28.010513  \n6   2023-07-24 12:12:28.010513  \n7   2023-07-24 12:12:28.010513  \n8   2023-07-24 12:12:28.010513  \n9   2023-07-24 12:12:28.010513  \n10  2023-07-24 09:12:28.010513  \n11  2023-07-24 09:12:28.010513  \n12  2023-07-24 01:12:28.010513  \n13  2023-07-24 08:12:28.010513  \n14  2023-07-24 08:12:28.010513  \n15  2023-07-24 01:12:28.010513  \n16  2023-07-24 01:12:28.010513  \n17  2023-07-24 00:12:28.010513  \n18  2023-07-24 00:12:28.010513  \n19  2023-07-24 06:12:28.010513  \n20  2023-07-24 01:12:28.010513  \n21  2023-07-23 23:12:28.010513  \n22  2023-07-23 23:12:28.010513  \n23  2023-07-24 01:12:28.010513  \n24  2023-07-24 00:12:28.010513  \n25  2023-07-23 21:12:28.010513  \n26  2023-07-24 07:12:28.010513  \n27  2023-07-24 05:12:28.010513  \n28  2023-07-24 02:12:28.010513  \n29  2023-07-23 19:12:28.010513  \n30  2023-07-23 23:12:28.010513  \n31  2023-07-23 23:12:28.010513  \n32  2023-07-23 22:12:28.010513  \n33  2023-07-23 22:12:28.010513  \n34  2023-07-23 21:12:28.010513  ",
      "text/html": "<div>\n<style scoped>\n    .dataframe tbody tr th:only-of-type {\n        vertical-align: middle;\n    }\n\n    .dataframe tbody tr th {\n        vertical-align: top;\n    }\n\n    .dataframe thead th {\n        text-align: right;\n    }\n</style>\n<table border=\"1\" class=\"dataframe\">\n  <thead>\n    <tr style=\"text-align: right;\">\n      <th></th>\n      <th>Platform</th>\n      <th>Business Unit</th>\n      <th>message</th>\n      <th>Comment Author</th>\n      <th>Current date</th>\n    </tr>\n  </thead>\n  <tbody>\n    <tr>\n      <th>0</th>\n      <td>FaceBook</td>\n      <td>HJH</td>\n      <td>طيب سويها لك نشوف بتنزل</td>\n      <td>معتز شوباص</td>\n      <td>2023-07-24 10:12:28.010513</td>\n    </tr>\n    <tr>\n      <th>1</th>\n      <td>FaceBook</td>\n      <td>HJH</td>\n      <td>كم تسووها وهل هيا امنه مالها اعراض جانبيه</td>\n      <td>هشام العزي المليك</td>\n      <td>2023-07-24 10:12:28.010513</td>\n    </tr>\n    <tr>\n      <th>2</th>\n      <td>FaceBook</td>\n      <td>HJH</td>\n      <td>كم السعر</td>\n      <td>أحاول الخروج</td>\n      <td>2023-07-24 06:12:28.010513</td>\n    </tr>\n    <tr>\n      <th>3</th>\n      <td>FaceBook</td>\n      <td>HJH</td>\n      <td>كم</td>\n      <td>Faton Ataar</td>\n      <td>2023-07-24 05:12:28.010513</td>\n    </tr>\n    <tr>\n      <th>4</th>\n      <td>FaceBook</td>\n      <td>HJH</td>\n      <td>كم السعر وطريقة التوصيل</td>\n      <td>عابر سبيل الي الله</td>\n      <td>2023-07-24 00:12:28.010513</td>\n    </tr>\n    <tr>\n      <th>5</th>\n      <td>FaceBook</td>\n      <td>HJH</td>\n      <td>نصيحة للي يريد إنقاص وزنه \\nعليك بالرياضة والق...</td>\n      <td>Andes Mount</td>\n      <td>2023-07-24 00:12:28.010513</td>\n    </tr>\n    <tr>\n      <th>6</th>\n      <td>FaceBook</td>\n      <td>APC</td>\n      <td>فين من مكان هاذي ارس الموقع</td>\n      <td>ريان فهد</td>\n      <td>2023-07-24 12:12:28.010513</td>\n    </tr>\n    <tr>\n      <th>7</th>\n      <td>FaceBook</td>\n      <td>APC</td>\n      <td>كم عليه ظمان مده كم  سنه</td>\n      <td>ريان فهد</td>\n      <td>2023-07-24 12:12:28.010513</td>\n    </tr>\n    <tr>\n      <th>8</th>\n      <td>FaceBook</td>\n      <td>APC</td>\n      <td>وين المكان هاذا</td>\n      <td>ريان فهد</td>\n      <td>2023-07-24 12:12:28.010513</td>\n    </tr>\n    <tr>\n      <th>9</th>\n      <td>FaceBook</td>\n      <td>APC</td>\n      <td>السلام عليكم</td>\n      <td>ريان فهد</td>\n      <td>2023-07-24 12:12:28.010513</td>\n    </tr>\n    <tr>\n      <th>10</th>\n      <td>FaceBook</td>\n      <td>APC</td>\n      <td>كم الكشف</td>\n      <td>الوسام لتجميل</td>\n      <td>2023-07-24 09:12:28.010513</td>\n    </tr>\n    <tr>\n      <th>11</th>\n      <td>FaceBook</td>\n      <td>APC</td>\n      <td>الله وفقك ربي يحفظك ويبارك فيك</td>\n      <td>Khalid Ibrahim</td>\n      <td>2023-07-24 09:12:28.010513</td>\n    </tr>\n    <tr>\n      <th>12</th>\n      <td>FaceBook</td>\n      <td>ADC</td>\n      <td>بكم سعر ٥ اسنان</td>\n      <td>Abrar Jihad</td>\n      <td>2023-07-24 01:12:28.010513</td>\n    </tr>\n    <tr>\n      <th>13</th>\n      <td>FaceBook</td>\n      <td>ALW</td>\n      <td>count me in</td>\n      <td>Alondra Alondra</td>\n      <td>2023-07-24 08:12:28.010513</td>\n    </tr>\n    <tr>\n      <th>14</th>\n      <td>FaceBook</td>\n      <td>ALW</td>\n      <td>بكم سعر التحاليل</td>\n      <td>يسريه البشر</td>\n      <td>2023-07-24 08:12:28.010513</td>\n    </tr>\n    <tr>\n      <th>15</th>\n      <td>FaceBook</td>\n      <td>ALW</td>\n      <td>كيف اتواصل معاكم</td>\n      <td>عاشه روحها</td>\n      <td>2023-07-24 01:12:28.010513</td>\n    </tr>\n    <tr>\n      <th>16</th>\n      <td>FaceBook</td>\n      <td>ALW</td>\n      <td>انتم وين قلبي الصغير لايتحمل</td>\n      <td>عاشه روحها</td>\n      <td>2023-07-24 01:12:28.010513</td>\n    </tr>\n    <tr>\n      <th>17</th>\n      <td>FaceBook</td>\n      <td>ALW</td>\n      <td>🙃</td>\n      <td>نواف البلوشي</td>\n      <td>2023-07-24 00:12:28.010513</td>\n    </tr>\n    <tr>\n      <th>18</th>\n      <td>FaceBook</td>\n      <td>ALW</td>\n      <td>تم</td>\n      <td>جموله قولاوى انقاري</td>\n      <td>2023-07-24 00:12:28.010513</td>\n    </tr>\n    <tr>\n      <th>19</th>\n      <td>Twitter</td>\n      <td>AHC</td>\n      <td>لا والله ليست ذكيه \\nوانها اغبى عمليه \\nاعرف ا...</td>\n      <td>9abdullah90</td>\n      <td>2023-07-24 06:12:28.010513</td>\n    </tr>\n    <tr>\n      <th>20</th>\n      <td>Twitter</td>\n      <td>AHC</td>\n      <td>تخسيس صحي ومضمون ✅ 🚶 حياكم في حسابي 🍏</td>\n      <td>shahed_daaitt</td>\n      <td>2023-07-24 01:12:28.010513</td>\n    </tr>\n    <tr>\n      <th>21</th>\n      <td>Twitter</td>\n      <td>AHC</td>\n      <td>سعرها بكم</td>\n      <td>_hilal1996</td>\n      <td>2023-07-23 23:12:28.010513</td>\n    </tr>\n    <tr>\n      <th>22</th>\n      <td>Twitter</td>\n      <td>AHC</td>\n      <td>سلام عليك</td>\n      <td>_hilal1996</td>\n      <td>2023-07-23 23:12:28.010513</td>\n    </tr>\n    <tr>\n      <th>23</th>\n      <td>Instagram</td>\n      <td>HJH</td>\n      <td>مين جرب</td>\n      <td>wasn5113</td>\n      <td>2023-07-24 01:12:28.010513</td>\n    </tr>\n    <tr>\n      <th>24</th>\n      <td>Instagram</td>\n      <td>HJH</td>\n      <td>سعر الولادة الطبيعة بكم</td>\n      <td>lmsyndr</td>\n      <td>2023-07-24 00:12:28.010513</td>\n    </tr>\n    <tr>\n      <th>25</th>\n      <td>Instagram</td>\n      <td>HJH</td>\n      <td>بس الي بعرفه لها مضاعفات جانبية.. ومش مضمونة ا...</td>\n      <td>syr45y</td>\n      <td>2023-07-23 21:12:28.010513</td>\n    </tr>\n    <tr>\n      <th>26</th>\n      <td>Instagram</td>\n      <td>AKW</td>\n      <td>قولو بكم يطلع السن الكل يستفيد</td>\n      <td>yousef94.f</td>\n      <td>2023-07-24 07:12:28.010513</td>\n    </tr>\n    <tr>\n      <th>27</th>\n      <td>Instagram</td>\n      <td>AKW</td>\n      <td>كم السعر</td>\n      <td>hasan19531</td>\n      <td>2023-07-24 05:12:28.010513</td>\n    </tr>\n    <tr>\n      <th>28</th>\n      <td>Instagram</td>\n      <td>AKW</td>\n      <td>ممكن نعرف كم سن</td>\n      <td>h3esh7iaty</td>\n      <td>2023-07-24 02:12:28.010513</td>\n    </tr>\n    <tr>\n      <th>29</th>\n      <td>Instagram</td>\n      <td>AKW</td>\n      <td>بكم الجسر</td>\n      <td>ywsfmhmd8082</td>\n      <td>2023-07-23 19:12:28.010513</td>\n    </tr>\n    <tr>\n      <th>30</th>\n      <td>Instagram</td>\n      <td>ADC</td>\n      <td>بكم شفط البطن</td>\n      <td>kalkebsi</td>\n      <td>2023-07-23 23:12:28.010513</td>\n    </tr>\n    <tr>\n      <th>31</th>\n      <td>Instagram</td>\n      <td>ADC</td>\n      <td>طب لو ماخسرة ولا كيلو</td>\n      <td>saf.isoso</td>\n      <td>2023-07-23 23:12:28.010513</td>\n    </tr>\n    <tr>\n      <th>32</th>\n      <td>Instagram</td>\n      <td>ADC</td>\n      <td>فين مكانكم</td>\n      <td>malakalshri09</td>\n      <td>2023-07-23 22:12:28.010513</td>\n    </tr>\n    <tr>\n      <th>33</th>\n      <td>Instagram</td>\n      <td>ADC</td>\n      <td>سعر عملية التكميم كاش بكم ربي يسعدكم</td>\n      <td>thank_god55</td>\n      <td>2023-07-23 22:12:28.010513</td>\n    </tr>\n    <tr>\n      <th>34</th>\n      <td>Instagram</td>\n      <td>ADC</td>\n      <td>كم سعر التحليل ؟ وكم سعر الفيتامينات</td>\n      <td>3662.amal</td>\n      <td>2023-07-23 21:12:28.010513</td>\n    </tr>\n  </tbody>\n</table>\n</div>"
     },
     "execution_count": 34,
     "metadata": {},
     "output_type": "execute_result"
    }
   ],
   "source": [
    "#dfs[3]"
   ],
   "metadata": {
    "collapsed": false,
    "ExecuteTime": {
     "end_time": "2023-07-24T09:45:53.346838800Z",
     "start_time": "2023-07-24T09:45:53.323874300Z"
    }
   }
  },
  {
   "cell_type": "code",
   "execution_count": 13,
   "outputs": [
    {
     "data": {
      "text/plain": "     Platform    Business Unit  \\\n250  FaceBook              ADC   \n249  FaceBook              ADC   \n247  FaceBook              ADC   \n248  FaceBook              ADC   \n246  FaceBook              ADC   \n..        ...              ...   \n134   Youtube  Andalusia_Egypt   \n137   Youtube  Andalusia_Egypt   \n133   Youtube  Andalusia_Egypt   \n132   Youtube  Andalusia_Egypt   \n131   Youtube  Andalusia_Egypt   \n\n                                               message       Comment Author  \\\n250                                        Good pm doc           Zel Torres   \n249                                              Amein             Sada Gul   \n247                                           كم السعر        بلال سعد محمد   \n248                                        كم السعر ؟؟       Ahmed M Hamdan   \n246                                          كم السعر؟          Yusuf Jalal   \n..                                                 ...                  ...   \n134  بالنسبة للجنتل برو هو نفسه الجنتل ماكس !؟ و اي...      إيمان أحمد عبيد   \n137  من فضلك يادكتور لو ورم عالرئة حجمه سم ونص وبدأ...           Kholud Ali   \n133                              فى ألم جامد بعد البنج         حمص ابو هلول   \n132  حسبى الله قطع العضلة معناة انك تتسببى فى عاهة ...           ahmed seka   \n131                      عايز العنوان او الرقم لو سمحت  اسمع🔊🎵 مع Zezo Yhya   \n\n                   Current date  \\\n250  2023-07-12 20:36:49.385000   \n249  2023-07-13 10:36:49.385000   \n247  2023-07-15 20:37:02.419000   \n248  2023-07-15 20:37:02.419000   \n246  2023-07-15 21:37:02.419000   \n..                          ...   \n134  2023-08-25 04:35:30.488541   \n137  2023-08-26 00:51:19.823061   \n133  2023-08-26 01:51:19.823061   \n132  2023-08-26 02:51:19.823061   \n131  2023-08-26 07:51:19.823061   \n\n                                               cleaned predicted  \\\n250                                                NaN       NaN   \n249                                                NaN       NaN   \n247                                                NaN       NaN   \n248                                                NaN       NaN   \n246                                                NaN       NaN   \n..                                                 ...       ...   \n134  بالنسبه للجنتل برو هو نفسه الجنتل ماكس و ايهما...       obj   \n137  من فضلك يا دكتور لو ورم عالرئه حجمه سم ونص وبد...       obj   \n133                              في الم جامد بعد البنج       obj   \n132  حسبي الله قطع العضله معناه انك تتسببي في عاهه ...       obj   \n131                      عايز العنوان او الرقم لو سمحت       obj   \n\n                           tags  inquiry        ALL_Categories  message_state  \n250                                  NaN     Positive-Feedback  Shown comment  \n249                                  NaN  General Conversation  Shown comment  \n247                       Price      NaN         Price-Inquiry  Shown comment  \n248                       Price      NaN         Price-Inquiry  Shown comment  \n246                       Price      NaN         Price-Inquiry  Shown comment  \n..                          ...      ...                   ...            ...  \n134                   Reception      1.0       Booking-Inquiry  Shown_comment  \n137  Doctor Feedback / Hospital      1.0       Mixed-Inquiries  Shown_comment  \n133             Doctor Feedback      1.0  Medical-Consultation  Shown_comment  \n132             Doctor Feedback      1.0  Medical-Consultation  Shown_comment  \n131        Hospital / Reception      1.0       Mixed-Inquiries  Shown_comment  \n\n[2452 rows x 11 columns]",
      "text/html": "<div>\n<style scoped>\n    .dataframe tbody tr th:only-of-type {\n        vertical-align: middle;\n    }\n\n    .dataframe tbody tr th {\n        vertical-align: top;\n    }\n\n    .dataframe thead th {\n        text-align: right;\n    }\n</style>\n<table border=\"1\" class=\"dataframe\">\n  <thead>\n    <tr style=\"text-align: right;\">\n      <th></th>\n      <th>Platform</th>\n      <th>Business Unit</th>\n      <th>message</th>\n      <th>Comment Author</th>\n      <th>Current date</th>\n      <th>cleaned</th>\n      <th>predicted</th>\n      <th>tags</th>\n      <th>inquiry</th>\n      <th>ALL_Categories</th>\n      <th>message_state</th>\n    </tr>\n  </thead>\n  <tbody>\n    <tr>\n      <th>250</th>\n      <td>FaceBook</td>\n      <td>ADC</td>\n      <td>Good pm doc</td>\n      <td>Zel Torres</td>\n      <td>2023-07-12 20:36:49.385000</td>\n      <td>NaN</td>\n      <td>NaN</td>\n      <td></td>\n      <td>NaN</td>\n      <td>Positive-Feedback</td>\n      <td>Shown comment</td>\n    </tr>\n    <tr>\n      <th>249</th>\n      <td>FaceBook</td>\n      <td>ADC</td>\n      <td>Amein</td>\n      <td>Sada Gul</td>\n      <td>2023-07-13 10:36:49.385000</td>\n      <td>NaN</td>\n      <td>NaN</td>\n      <td></td>\n      <td>NaN</td>\n      <td>General Conversation</td>\n      <td>Shown comment</td>\n    </tr>\n    <tr>\n      <th>247</th>\n      <td>FaceBook</td>\n      <td>ADC</td>\n      <td>كم السعر</td>\n      <td>بلال سعد محمد</td>\n      <td>2023-07-15 20:37:02.419000</td>\n      <td>NaN</td>\n      <td>NaN</td>\n      <td>Price</td>\n      <td>NaN</td>\n      <td>Price-Inquiry</td>\n      <td>Shown comment</td>\n    </tr>\n    <tr>\n      <th>248</th>\n      <td>FaceBook</td>\n      <td>ADC</td>\n      <td>كم السعر ؟؟</td>\n      <td>Ahmed M Hamdan</td>\n      <td>2023-07-15 20:37:02.419000</td>\n      <td>NaN</td>\n      <td>NaN</td>\n      <td>Price</td>\n      <td>NaN</td>\n      <td>Price-Inquiry</td>\n      <td>Shown comment</td>\n    </tr>\n    <tr>\n      <th>246</th>\n      <td>FaceBook</td>\n      <td>ADC</td>\n      <td>كم السعر؟</td>\n      <td>Yusuf Jalal</td>\n      <td>2023-07-15 21:37:02.419000</td>\n      <td>NaN</td>\n      <td>NaN</td>\n      <td>Price</td>\n      <td>NaN</td>\n      <td>Price-Inquiry</td>\n      <td>Shown comment</td>\n    </tr>\n    <tr>\n      <th>...</th>\n      <td>...</td>\n      <td>...</td>\n      <td>...</td>\n      <td>...</td>\n      <td>...</td>\n      <td>...</td>\n      <td>...</td>\n      <td>...</td>\n      <td>...</td>\n      <td>...</td>\n      <td>...</td>\n    </tr>\n    <tr>\n      <th>134</th>\n      <td>Youtube</td>\n      <td>Andalusia_Egypt</td>\n      <td>بالنسبة للجنتل برو هو نفسه الجنتل ماكس !؟ و اي...</td>\n      <td>إيمان أحمد عبيد</td>\n      <td>2023-08-25 04:35:30.488541</td>\n      <td>بالنسبه للجنتل برو هو نفسه الجنتل ماكس و ايهما...</td>\n      <td>obj</td>\n      <td>Reception</td>\n      <td>1.0</td>\n      <td>Booking-Inquiry</td>\n      <td>Shown_comment</td>\n    </tr>\n    <tr>\n      <th>137</th>\n      <td>Youtube</td>\n      <td>Andalusia_Egypt</td>\n      <td>من فضلك يادكتور لو ورم عالرئة حجمه سم ونص وبدأ...</td>\n      <td>Kholud Ali</td>\n      <td>2023-08-26 00:51:19.823061</td>\n      <td>من فضلك يا دكتور لو ورم عالرئه حجمه سم ونص وبد...</td>\n      <td>obj</td>\n      <td>Doctor Feedback / Hospital</td>\n      <td>1.0</td>\n      <td>Mixed-Inquiries</td>\n      <td>Shown_comment</td>\n    </tr>\n    <tr>\n      <th>133</th>\n      <td>Youtube</td>\n      <td>Andalusia_Egypt</td>\n      <td>فى ألم جامد بعد البنج</td>\n      <td>حمص ابو هلول</td>\n      <td>2023-08-26 01:51:19.823061</td>\n      <td>في الم جامد بعد البنج</td>\n      <td>obj</td>\n      <td>Doctor Feedback</td>\n      <td>1.0</td>\n      <td>Medical-Consultation</td>\n      <td>Shown_comment</td>\n    </tr>\n    <tr>\n      <th>132</th>\n      <td>Youtube</td>\n      <td>Andalusia_Egypt</td>\n      <td>حسبى الله قطع العضلة معناة انك تتسببى فى عاهة ...</td>\n      <td>ahmed seka</td>\n      <td>2023-08-26 02:51:19.823061</td>\n      <td>حسبي الله قطع العضله معناه انك تتسببي في عاهه ...</td>\n      <td>obj</td>\n      <td>Doctor Feedback</td>\n      <td>1.0</td>\n      <td>Medical-Consultation</td>\n      <td>Shown_comment</td>\n    </tr>\n    <tr>\n      <th>131</th>\n      <td>Youtube</td>\n      <td>Andalusia_Egypt</td>\n      <td>عايز العنوان او الرقم لو سمحت</td>\n      <td>اسمع🔊🎵 مع Zezo Yhya</td>\n      <td>2023-08-26 07:51:19.823061</td>\n      <td>عايز العنوان او الرقم لو سمحت</td>\n      <td>obj</td>\n      <td>Hospital / Reception</td>\n      <td>1.0</td>\n      <td>Mixed-Inquiries</td>\n      <td>Shown_comment</td>\n    </tr>\n  </tbody>\n</table>\n<p>2452 rows × 11 columns</p>\n</div>"
     },
     "execution_count": 13,
     "metadata": {},
     "output_type": "execute_result"
    }
   ],
   "source": [
    "result = pd.concat(dfs, ignore_index=True)\n",
    "result.drop_duplicates(subset=['Platform','Business Unit','message','Comment Author'])\n",
    "\n",
    "result.sort_values(by=['Platform','Business Unit','Current date'], inplace=True)\n",
    "#result['message_state'] = 'Shown_comment'\n",
    "result"
   ],
   "metadata": {
    "collapsed": false,
    "ExecuteTime": {
     "end_time": "2023-08-29T13:54:43.623869800Z",
     "start_time": "2023-08-29T13:54:43.578420500Z"
    }
   }
  },
  {
   "cell_type": "code",
   "execution_count": 15,
   "outputs": [],
   "source": [
    "result.to_csv('Extracted SocialMediaComments/Assignments/07-17-to-08-29/Meta-Data.csv',index=False,encoding='utf-8-sig')"
   ],
   "metadata": {
    "collapsed": false,
    "ExecuteTime": {
     "end_time": "2023-08-29T13:55:13.172207400Z",
     "start_time": "2023-08-29T13:55:13.059596200Z"
    }
   }
  },
  {
   "cell_type": "code",
   "execution_count": 20,
   "outputs": [],
   "source": [
    "#result.dropna(subset=['message'],inplace=True)"
   ],
   "metadata": {
    "collapsed": false,
    "ExecuteTime": {
     "end_time": "2023-08-03T10:12:00.191178400Z",
     "start_time": "2023-08-03T10:12:00.170158200Z"
    }
   }
  },
  {
   "cell_type": "code",
   "execution_count": 42,
   "outputs": [],
   "source": [
    "directory_path = 'Extracted SocialMediaComments/data to ' + str(current_datetime).split(' ')[0][5:]+' ' + \\\n",
    "                 str(current_datetime.strftime('%B')) +' '+ str(current_datetime).split(' ')[0][:4] +'/Results/'\n",
    "\n",
    "if not os.path.exists(directory_path):\n",
    "        os.makedirs(directory_path)\n",
    "\n",
    "directory_path = directory_path + 'Agora_comments.csv'"
   ],
   "metadata": {
    "collapsed": false,
    "ExecuteTime": {
     "end_time": "2023-08-07T09:33:31.296344300Z",
     "start_time": "2023-08-07T09:33:31.269091300Z"
    }
   }
  },
  {
   "cell_type": "code",
   "execution_count": 43,
   "outputs": [],
   "source": [
    "result.to_csv(directory_path,index=False,encoding='utf-8-sig')"
   ],
   "metadata": {
    "collapsed": false,
    "ExecuteTime": {
     "end_time": "2023-08-07T09:33:31.812373300Z",
     "start_time": "2023-08-07T09:33:31.801367400Z"
    }
   }
  },
  {
   "cell_type": "code",
   "execution_count": 44,
   "outputs": [],
   "source": [
    "excels = glob.glob('Extracted SocialMediaComments/Assignments/*.xlsx')\n",
    "dfs = []\n",
    "for excel in excels:\n",
    "    dfs.append(pd.read_excel(excel))\n",
    "dfs[1]['message state'] = 'Shown comment'"
   ],
   "metadata": {
    "collapsed": false,
    "ExecuteTime": {
     "end_time": "2023-07-24T11:27:42.880139200Z",
     "start_time": "2023-07-24T11:27:42.810297Z"
    }
   }
  },
  {
   "cell_type": "code",
   "execution_count": 45,
   "outputs": [
    {
     "data": {
      "text/plain": "     Platform Business Unit        Comment Author  \\\n0    FaceBook           ADC         Facebook user   \n237  FaceBook           HJH          Sawsan Sadeq   \n236  FaceBook           HJH  ابراهيم عبدالله موسي   \n235  FaceBook           HJH           Agha Sayyad   \n234  FaceBook           APC       مني حمادي حمادي   \n..        ...           ...                   ...   \n180   Youtube           ADC             Qwqw Qwqw   \n181   Youtube           ADC              Rhrc Dkr   \n182   Youtube           ADC              Rhrc Dkr   \n183   Youtube           ADC               ddd ggg   \n184   Youtube           ADC            Be ControL   \n\n                                               message  \\\n0    السلام عليكم \\nبكام الضرس ولاني من مكان بعيد ه...   \n237                                          Haw mash?   \n236                                           كم السعر   \n235                                                بكم   \n234                   وده هاجر علي نظرك ياحلوه بلا جهل   \n..                                                 ...   \n180                               بس صوت الدكتور منخفض   \n181                                              ❤❤❤❤😊   \n182  تبع مرحبا مليون مبروك يا ابو محمد وعلى آل محمد...   \n183  الغبي ضيع أسنانه لانه اختار تركيبة ولم يختار ز...   \n184  بسبب اسعاركم الفلكية نويت اسافر مصر وازرع هناك...   \n\n               Current date                            tags  \\\n0   2023-07-15 22:37:02.419                Hospital / Price   \n237 2023-07-17 20:24:37.566                                   \n236 2023-07-17 20:24:37.566                           Price   \n235 2023-07-17 20:24:37.566                           Price   \n234 2023-07-18 12:24:37.566                                   \n..                      ...                             ...   \n180                     NaT                Hospital / Price   \n181                     NaT                                   \n182                     NaT  Reception / Insurance Feedback   \n183                     NaT                        Hospital   \n184                     NaT                Hospital / Price   \n\n           ALL_Categories   message state  \n0         Mixed-Inquiries   Shown comment  \n237  General Conversation   Shown comment  \n236         Price-Inquiry   Shown comment  \n235         Price-Inquiry   Shown comment  \n234     Negative-Feedback   Shown comment  \n..                    ...             ...  \n180     Negative-Feedback  Hidden comment  \n181  General Conversation  Hidden comment  \n182     Insurance-Inquiry  Hidden comment  \n183     Negative-Feedback  Hidden comment  \n184     Negative-Feedback  Hidden comment  \n\n[318 rows x 8 columns]",
      "text/html": "<div>\n<style scoped>\n    .dataframe tbody tr th:only-of-type {\n        vertical-align: middle;\n    }\n\n    .dataframe tbody tr th {\n        vertical-align: top;\n    }\n\n    .dataframe thead th {\n        text-align: right;\n    }\n</style>\n<table border=\"1\" class=\"dataframe\">\n  <thead>\n    <tr style=\"text-align: right;\">\n      <th></th>\n      <th>Platform</th>\n      <th>Business Unit</th>\n      <th>Comment Author</th>\n      <th>message</th>\n      <th>Current date</th>\n      <th>tags</th>\n      <th>ALL_Categories</th>\n      <th>message state</th>\n    </tr>\n  </thead>\n  <tbody>\n    <tr>\n      <th>0</th>\n      <td>FaceBook</td>\n      <td>ADC</td>\n      <td>Facebook user</td>\n      <td>السلام عليكم \\nبكام الضرس ولاني من مكان بعيد ه...</td>\n      <td>2023-07-15 22:37:02.419</td>\n      <td>Hospital / Price</td>\n      <td>Mixed-Inquiries</td>\n      <td>Shown comment</td>\n    </tr>\n    <tr>\n      <th>237</th>\n      <td>FaceBook</td>\n      <td>HJH</td>\n      <td>Sawsan Sadeq</td>\n      <td>Haw mash?</td>\n      <td>2023-07-17 20:24:37.566</td>\n      <td></td>\n      <td>General Conversation</td>\n      <td>Shown comment</td>\n    </tr>\n    <tr>\n      <th>236</th>\n      <td>FaceBook</td>\n      <td>HJH</td>\n      <td>ابراهيم عبدالله موسي</td>\n      <td>كم السعر</td>\n      <td>2023-07-17 20:24:37.566</td>\n      <td>Price</td>\n      <td>Price-Inquiry</td>\n      <td>Shown comment</td>\n    </tr>\n    <tr>\n      <th>235</th>\n      <td>FaceBook</td>\n      <td>HJH</td>\n      <td>Agha Sayyad</td>\n      <td>بكم</td>\n      <td>2023-07-17 20:24:37.566</td>\n      <td>Price</td>\n      <td>Price-Inquiry</td>\n      <td>Shown comment</td>\n    </tr>\n    <tr>\n      <th>234</th>\n      <td>FaceBook</td>\n      <td>APC</td>\n      <td>مني حمادي حمادي</td>\n      <td>وده هاجر علي نظرك ياحلوه بلا جهل</td>\n      <td>2023-07-18 12:24:37.566</td>\n      <td></td>\n      <td>Negative-Feedback</td>\n      <td>Shown comment</td>\n    </tr>\n    <tr>\n      <th>...</th>\n      <td>...</td>\n      <td>...</td>\n      <td>...</td>\n      <td>...</td>\n      <td>...</td>\n      <td>...</td>\n      <td>...</td>\n      <td>...</td>\n    </tr>\n    <tr>\n      <th>180</th>\n      <td>Youtube</td>\n      <td>ADC</td>\n      <td>Qwqw Qwqw</td>\n      <td>بس صوت الدكتور منخفض</td>\n      <td>NaT</td>\n      <td>Hospital / Price</td>\n      <td>Negative-Feedback</td>\n      <td>Hidden comment</td>\n    </tr>\n    <tr>\n      <th>181</th>\n      <td>Youtube</td>\n      <td>ADC</td>\n      <td>Rhrc Dkr</td>\n      <td>❤❤❤❤😊</td>\n      <td>NaT</td>\n      <td></td>\n      <td>General Conversation</td>\n      <td>Hidden comment</td>\n    </tr>\n    <tr>\n      <th>182</th>\n      <td>Youtube</td>\n      <td>ADC</td>\n      <td>Rhrc Dkr</td>\n      <td>تبع مرحبا مليون مبروك يا ابو محمد وعلى آل محمد...</td>\n      <td>NaT</td>\n      <td>Reception / Insurance Feedback</td>\n      <td>Insurance-Inquiry</td>\n      <td>Hidden comment</td>\n    </tr>\n    <tr>\n      <th>183</th>\n      <td>Youtube</td>\n      <td>ADC</td>\n      <td>ddd ggg</td>\n      <td>الغبي ضيع أسنانه لانه اختار تركيبة ولم يختار ز...</td>\n      <td>NaT</td>\n      <td>Hospital</td>\n      <td>Negative-Feedback</td>\n      <td>Hidden comment</td>\n    </tr>\n    <tr>\n      <th>184</th>\n      <td>Youtube</td>\n      <td>ADC</td>\n      <td>Be ControL</td>\n      <td>بسبب اسعاركم الفلكية نويت اسافر مصر وازرع هناك...</td>\n      <td>NaT</td>\n      <td>Hospital / Price</td>\n      <td>Negative-Feedback</td>\n      <td>Hidden comment</td>\n    </tr>\n  </tbody>\n</table>\n<p>318 rows × 8 columns</p>\n</div>"
     },
     "execution_count": 45,
     "metadata": {},
     "output_type": "execute_result"
    }
   ],
   "source": [
    "result = pd.concat(dfs, ignore_index=True)\n",
    "result.sort_values(by='Platform', inplace=True)\n",
    "\n",
    "result"
   ],
   "metadata": {
    "collapsed": false,
    "ExecuteTime": {
     "end_time": "2023-07-24T11:27:43.635221500Z",
     "start_time": "2023-07-24T11:27:43.609140800Z"
    }
   }
  },
  {
   "cell_type": "code",
   "execution_count": 46,
   "outputs": [],
   "source": [
    "result.to_csv('Extracted SocialMediaComments/Assignments/a.csv',index=False,encoding='utf-8-sig')"
   ],
   "metadata": {
    "collapsed": false,
    "ExecuteTime": {
     "end_time": "2023-07-24T11:27:44.709639700Z",
     "start_time": "2023-07-24T11:27:44.682324Z"
    }
   }
  },
  {
   "cell_type": "code",
   "execution_count": null,
   "outputs": [],
   "source": [],
   "metadata": {
    "collapsed": false
   }
  }
 ],
 "metadata": {
  "kernelspec": {
   "display_name": "Python 3",
   "language": "python",
   "name": "python3"
  },
  "language_info": {
   "codemirror_mode": {
    "name": "ipython",
    "version": 2
   },
   "file_extension": ".py",
   "mimetype": "text/x-python",
   "name": "python",
   "nbconvert_exporter": "python",
   "pygments_lexer": "ipython2",
   "version": "2.7.6"
  }
 },
 "nbformat": 4,
 "nbformat_minor": 0
}
