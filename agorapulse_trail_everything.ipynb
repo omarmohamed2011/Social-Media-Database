{
 "cells": [
  {
   "cell_type": "code",
   "execution_count": 12,
   "outputs": [],
   "source": [
    "#!pip install webdriver_manager --quiet\n",
    "#!pip install --upgrade webdriver_manager\n",
    "#!pip install -U selenium --quiet"
   ],
   "metadata": {
    "collapsed": false,
    "ExecuteTime": {
     "end_time": "2023-07-18T14:41:24.282750100Z",
     "start_time": "2023-07-18T14:41:22.336501900Z"
    }
   }
  },
  {
   "cell_type": "code",
   "execution_count": 13,
   "outputs": [],
   "source": [
    "from selenium import webdriver\n",
    "\n",
    "from selenium.webdriver.support.ui import WebDriverWait\n",
    "from selenium.webdriver.support import expected_conditions as EC\n",
    "from selenium.common.exceptions import TimeoutException, ElementClickInterceptedException\n",
    "\n",
    "from selenium.webdriver.common.action_chains import ActionChains\n",
    "from selenium.webdriver.common.keys import Keys\n",
    "\n",
    "from selenium.webdriver.common.by import By\n",
    "from bs4 import BeautifulSoup\n",
    "\n",
    "import pandas as pd\n",
    "import numpy as np\n",
    "import time\n",
    "from utilities2 import *"
   ],
   "metadata": {
    "collapsed": false,
    "ExecuteTime": {
     "end_time": "2023-07-18T14:41:25.511859300Z",
     "start_time": "2023-07-18T14:41:22.352121900Z"
    }
   }
  },
  {
   "cell_type": "code",
   "execution_count": 14,
   "outputs": [],
   "source": [
    "from constants import *"
   ],
   "metadata": {
    "collapsed": false,
    "ExecuteTime": {
     "end_time": "2023-07-18T14:41:25.607028800Z",
     "start_time": "2023-07-18T14:41:25.513855800Z"
    }
   }
  },
  {
   "cell_type": "code",
   "execution_count": 15,
   "outputs": [],
   "source": [
    "#from constants_negative import *"
   ],
   "metadata": {
    "collapsed": false,
    "ExecuteTime": {
     "end_time": "2023-07-18T14:41:25.695024Z",
     "start_time": "2023-07-18T14:41:25.610019800Z"
    }
   }
  },
  {
   "cell_type": "code",
   "execution_count": 16,
   "outputs": [],
   "source": [
    "fb_links  = [hjh_fb,apc_fb,akw_fb,adc_fb,alw_fb,ahc_fb];        fb_pages  = ['FaceBook HJH','FaceBook APC','FaceBook AKW','FaceBook ADC','FaceBook ALW','FaceBook AHC']\n",
    "ins_links = [hjh_ins,apc_ins,akw_ins,adc_ins,alw_ins,ahc_ins];  ins_pages = ['Instagram HJH','Instagram APC','Instagram AKW','Instagram ADC','Instagram ALW','Instagram AHC']\n",
    "yt_links  = [akw_yt,adc_yt]; yt_pages = ['Youtube AKW','Youtube ADC']\n",
    "\n",
    "try:\n",
    "    twt_links = [hjh_twt,apc_twt,akw_twt,adc_twt,alw_twt];          twt_pages = ['Twitter HJH','Twitter APC','Twitter AKW','Twitter ADC','Twitter ALW','Twitter AHC']\n",
    "except:\n",
    "    twt_links = []; twt_pages = []"
   ],
   "metadata": {
    "collapsed": false,
    "ExecuteTime": {
     "end_time": "2023-07-18T14:41:25.890733500Z",
     "start_time": "2023-07-18T14:41:25.689382900Z"
    }
   }
  },
  {
   "cell_type": "code",
   "execution_count": 17,
   "outputs": [],
   "source": [
    "driver = webdriver.Chrome()"
   ],
   "metadata": {
    "collapsed": false,
    "ExecuteTime": {
     "end_time": "2023-07-18T14:41:29.065627400Z",
     "start_time": "2023-07-18T14:41:25.893724600Z"
    }
   }
  },
  {
   "cell_type": "code",
   "execution_count": 18,
   "outputs": [],
   "source": [
    "#driver = webdriver.Chrome(\"chromedriver.exe\")\n",
    "driver.maximize_window()\n",
    "\n",
    "driver.get(\"https://app.agorapulse.com/\")"
   ],
   "metadata": {
    "collapsed": false,
    "ExecuteTime": {
     "end_time": "2023-07-18T14:41:32.497415900Z",
     "start_time": "2023-07-18T14:41:29.065627400Z"
    }
   }
  },
  {
   "cell_type": "code",
   "execution_count": 19,
   "outputs": [],
   "source": [
    "file_path = 'credentials.txt'\n",
    "file1 = open(file_path, 'r')\n",
    "content = file1.read()\n",
    "\n",
    "content = content.split('\\n')\n",
    "email,password = content[0],content[1]"
   ],
   "metadata": {
    "collapsed": false,
    "ExecuteTime": {
     "end_time": "2023-07-18T14:41:32.513425400Z",
     "start_time": "2023-07-18T14:41:32.500409600Z"
    }
   }
  },
  {
   "cell_type": "code",
   "execution_count": 20,
   "outputs": [
    {
     "name": "stdout",
     "output_type": "stream",
     "text": [
      "Mohamed.Reda@andalusiagroup.net\n"
     ]
    }
   ],
   "source": [
    "print(email)"
   ],
   "metadata": {
    "collapsed": false,
    "ExecuteTime": {
     "end_time": "2023-07-18T14:41:33.020648Z",
     "start_time": "2023-07-18T14:41:32.514422900Z"
    }
   }
  },
  {
   "cell_type": "code",
   "execution_count": null,
   "outputs": [],
   "source": [
    "print(password)"
   ],
   "metadata": {
    "collapsed": false
   }
  },
  {
   "cell_type": "code",
   "execution_count": 22,
   "outputs": [],
   "source": [
    "driver.get(hjh_fb)"
   ],
   "metadata": {
    "collapsed": false,
    "ExecuteTime": {
     "end_time": "2023-07-18T14:41:42.639840300Z",
     "start_time": "2023-07-18T14:41:33.361253Z"
    }
   }
  },
  {
   "cell_type": "code",
   "execution_count": 23,
   "outputs": [],
   "source": [
    "wait = WebDriverWait(driver, 25)"
   ],
   "metadata": {
    "collapsed": false,
    "ExecuteTime": {
     "end_time": "2023-07-18T14:41:42.655797Z",
     "start_time": "2023-07-18T14:41:42.639840300Z"
    }
   }
  },
  {
   "cell_type": "code",
   "execution_count": 24,
   "outputs": [
    {
     "ename": "NoSuchElementException",
     "evalue": "Message: no such element: Unable to locate element: {\"method\":\"css selector\",\"selector\":\".item-list-cards-container\"}\n  (Session info: chrome=114.0.5735.199)\nStacktrace:\nBacktrace:\n\tGetHandleVerifier [0x00ECA813+48355]\n\t(No symbol) [0x00E5C4B1]\n\t(No symbol) [0x00D65358]\n\t(No symbol) [0x00D909A5]\n\t(No symbol) [0x00D90B3B]\n\t(No symbol) [0x00DBE232]\n\t(No symbol) [0x00DAA784]\n\t(No symbol) [0x00DBC922]\n\t(No symbol) [0x00DAA536]\n\t(No symbol) [0x00D882DC]\n\t(No symbol) [0x00D893DD]\n\tGetHandleVerifier [0x0112AABD+2539405]\n\tGetHandleVerifier [0x0116A78F+2800735]\n\tGetHandleVerifier [0x0116456C+2775612]\n\tGetHandleVerifier [0x00F551E0+616112]\n\t(No symbol) [0x00E65F8C]\n\t(No symbol) [0x00E62328]\n\t(No symbol) [0x00E6240B]\n\t(No symbol) [0x00E54FF7]\n\tBaseThreadInitThunk [0x770200C9+25]\n\tRtlGetAppContainerNamedObjectPath [0x773A7B1E+286]\n\tRtlGetAppContainerNamedObjectPath [0x773A7AEE+238]\n",
     "output_type": "error",
     "traceback": [
      "\u001B[1;31m---------------------------------------------------------------------------\u001B[0m",
      "\u001B[1;31mNoSuchElementException\u001B[0m                    Traceback (most recent call last)",
      "Cell \u001B[1;32mIn[24], line 1\u001B[0m\n\u001B[1;32m----> 1\u001B[0m list_elements \u001B[38;5;241m=\u001B[39m \u001B[43mdriver\u001B[49m\u001B[38;5;241;43m.\u001B[39;49m\u001B[43mfind_element\u001B[49m\u001B[43m(\u001B[49m\u001B[43mBy\u001B[49m\u001B[38;5;241;43m.\u001B[39;49m\u001B[43mCLASS_NAME\u001B[49m\u001B[43m,\u001B[49m\u001B[38;5;124;43m'\u001B[39;49m\u001B[38;5;124;43mitem-list-cards-container\u001B[39;49m\u001B[38;5;124;43m'\u001B[39;49m\u001B[43m)\u001B[49m\u001B[38;5;66;03m#.click()\u001B[39;00m\n",
      "File \u001B[1;32mE:\\Projects\\Social Media Database\\venv\\lib\\site-packages\\selenium\\webdriver\\remote\\webdriver.py:831\u001B[0m, in \u001B[0;36mWebDriver.find_element\u001B[1;34m(self, by, value)\u001B[0m\n\u001B[0;32m    828\u001B[0m     by \u001B[38;5;241m=\u001B[39m By\u001B[38;5;241m.\u001B[39mCSS_SELECTOR\n\u001B[0;32m    829\u001B[0m     value \u001B[38;5;241m=\u001B[39m \u001B[38;5;124mf\u001B[39m\u001B[38;5;124m'\u001B[39m\u001B[38;5;124m[name=\u001B[39m\u001B[38;5;124m\"\u001B[39m\u001B[38;5;132;01m{\u001B[39;00mvalue\u001B[38;5;132;01m}\u001B[39;00m\u001B[38;5;124m\"\u001B[39m\u001B[38;5;124m]\u001B[39m\u001B[38;5;124m'\u001B[39m\n\u001B[1;32m--> 831\u001B[0m \u001B[38;5;28;01mreturn\u001B[39;00m \u001B[38;5;28;43mself\u001B[39;49m\u001B[38;5;241;43m.\u001B[39;49m\u001B[43mexecute\u001B[49m\u001B[43m(\u001B[49m\u001B[43mCommand\u001B[49m\u001B[38;5;241;43m.\u001B[39;49m\u001B[43mFIND_ELEMENT\u001B[49m\u001B[43m,\u001B[49m\u001B[43m \u001B[49m\u001B[43m{\u001B[49m\u001B[38;5;124;43m\"\u001B[39;49m\u001B[38;5;124;43musing\u001B[39;49m\u001B[38;5;124;43m\"\u001B[39;49m\u001B[43m:\u001B[49m\u001B[43m \u001B[49m\u001B[43mby\u001B[49m\u001B[43m,\u001B[49m\u001B[43m \u001B[49m\u001B[38;5;124;43m\"\u001B[39;49m\u001B[38;5;124;43mvalue\u001B[39;49m\u001B[38;5;124;43m\"\u001B[39;49m\u001B[43m:\u001B[49m\u001B[43m \u001B[49m\u001B[43mvalue\u001B[49m\u001B[43m}\u001B[49m\u001B[43m)\u001B[49m[\u001B[38;5;124m\"\u001B[39m\u001B[38;5;124mvalue\u001B[39m\u001B[38;5;124m\"\u001B[39m]\n",
      "File \u001B[1;32mE:\\Projects\\Social Media Database\\venv\\lib\\site-packages\\selenium\\webdriver\\remote\\webdriver.py:440\u001B[0m, in \u001B[0;36mWebDriver.execute\u001B[1;34m(self, driver_command, params)\u001B[0m\n\u001B[0;32m    438\u001B[0m response \u001B[38;5;241m=\u001B[39m \u001B[38;5;28mself\u001B[39m\u001B[38;5;241m.\u001B[39mcommand_executor\u001B[38;5;241m.\u001B[39mexecute(driver_command, params)\n\u001B[0;32m    439\u001B[0m \u001B[38;5;28;01mif\u001B[39;00m response:\n\u001B[1;32m--> 440\u001B[0m     \u001B[38;5;28;43mself\u001B[39;49m\u001B[38;5;241;43m.\u001B[39;49m\u001B[43merror_handler\u001B[49m\u001B[38;5;241;43m.\u001B[39;49m\u001B[43mcheck_response\u001B[49m\u001B[43m(\u001B[49m\u001B[43mresponse\u001B[49m\u001B[43m)\u001B[49m\n\u001B[0;32m    441\u001B[0m     response[\u001B[38;5;124m\"\u001B[39m\u001B[38;5;124mvalue\u001B[39m\u001B[38;5;124m\"\u001B[39m] \u001B[38;5;241m=\u001B[39m \u001B[38;5;28mself\u001B[39m\u001B[38;5;241m.\u001B[39m_unwrap_value(response\u001B[38;5;241m.\u001B[39mget(\u001B[38;5;124m\"\u001B[39m\u001B[38;5;124mvalue\u001B[39m\u001B[38;5;124m\"\u001B[39m, \u001B[38;5;28;01mNone\u001B[39;00m))\n\u001B[0;32m    442\u001B[0m     \u001B[38;5;28;01mreturn\u001B[39;00m response\n",
      "File \u001B[1;32mE:\\Projects\\Social Media Database\\venv\\lib\\site-packages\\selenium\\webdriver\\remote\\errorhandler.py:245\u001B[0m, in \u001B[0;36mErrorHandler.check_response\u001B[1;34m(self, response)\u001B[0m\n\u001B[0;32m    243\u001B[0m         alert_text \u001B[38;5;241m=\u001B[39m value[\u001B[38;5;124m\"\u001B[39m\u001B[38;5;124malert\u001B[39m\u001B[38;5;124m\"\u001B[39m]\u001B[38;5;241m.\u001B[39mget(\u001B[38;5;124m\"\u001B[39m\u001B[38;5;124mtext\u001B[39m\u001B[38;5;124m\"\u001B[39m)\n\u001B[0;32m    244\u001B[0m     \u001B[38;5;28;01mraise\u001B[39;00m exception_class(message, screen, stacktrace, alert_text)  \u001B[38;5;66;03m# type: ignore[call-arg]  # mypy is not smart enough here\u001B[39;00m\n\u001B[1;32m--> 245\u001B[0m \u001B[38;5;28;01mraise\u001B[39;00m exception_class(message, screen, stacktrace)\n",
      "\u001B[1;31mNoSuchElementException\u001B[0m: Message: no such element: Unable to locate element: {\"method\":\"css selector\",\"selector\":\".item-list-cards-container\"}\n  (Session info: chrome=114.0.5735.199)\nStacktrace:\nBacktrace:\n\tGetHandleVerifier [0x00ECA813+48355]\n\t(No symbol) [0x00E5C4B1]\n\t(No symbol) [0x00D65358]\n\t(No symbol) [0x00D909A5]\n\t(No symbol) [0x00D90B3B]\n\t(No symbol) [0x00DBE232]\n\t(No symbol) [0x00DAA784]\n\t(No symbol) [0x00DBC922]\n\t(No symbol) [0x00DAA536]\n\t(No symbol) [0x00D882DC]\n\t(No symbol) [0x00D893DD]\n\tGetHandleVerifier [0x0112AABD+2539405]\n\tGetHandleVerifier [0x0116A78F+2800735]\n\tGetHandleVerifier [0x0116456C+2775612]\n\tGetHandleVerifier [0x00F551E0+616112]\n\t(No symbol) [0x00E65F8C]\n\t(No symbol) [0x00E62328]\n\t(No symbol) [0x00E6240B]\n\t(No symbol) [0x00E54FF7]\n\tBaseThreadInitThunk [0x770200C9+25]\n\tRtlGetAppContainerNamedObjectPath [0x773A7B1E+286]\n\tRtlGetAppContainerNamedObjectPath [0x773A7AEE+238]\n"
     ]
    }
   ],
   "source": [
    "list_elements = driver.find_element(By.CLASS_NAME,'item-list-cards-container')#.click()"
   ],
   "metadata": {
    "collapsed": false,
    "ExecuteTime": {
     "end_time": "2023-07-18T14:41:44.279801Z",
     "start_time": "2023-07-18T14:41:42.656796600Z"
    }
   }
  },
  {
   "cell_type": "code",
   "execution_count": null,
   "outputs": [],
   "source": [
    "for elem in list_elements.find_elements():\n",
    "    print(elem)"
   ],
   "metadata": {
    "collapsed": false
   }
  },
  {
   "cell_type": "code",
   "execution_count": null,
   "outputs": [],
   "source": [
    "driver.get(hjh_fb)"
   ],
   "metadata": {
    "collapsed": false
   }
  },
  {
   "cell_type": "code",
   "execution_count": null,
   "outputs": [],
   "source": [
    "element = soup.findNext(\"button\",class_=\"'mat-focus-indicator mat-menu-item ng-star-inserted'\")\n",
    "element"
   ],
   "metadata": {
    "collapsed": false
   }
  },
  {
   "cell_type": "code",
   "execution_count": null,
   "outputs": [],
   "source": [
    "driver.get(hjh_fb)\n",
    "time.sleep(10)\n",
    "\n",
    "htmlstring = driver.page_source\n",
    "soup = BeautifulSoup(htmlstring, \"html.parser\")\n",
    "#wait.until(EC.element_to_be_clickable((By.CLASS_NAME, 'ng-input')))\n",
    "#mydivs = soup.findAll(\"span\",class_=\"item-card-message ng-star-inserted\")\n",
    "\n",
    "long_scroll(driver=driver)\n",
    "\n",
    "soup.findNext(\"span\",id_=\"'inboxAppliedFilterremovedByManagerIdTrack'\")\n",
    "#wait.until(EC.presence_of_all_elements_located((By.CLASS_NAME,'ng-input')))\n",
    "time.sleep(3)\n",
    "mydivs = soup.findAll(\"span\",class_=\"item-card-message ng-star-inserted\")\n",
    "\n",
    "#wait.until(EC.presence_of_all_elements_located((By.CLASS_NAME,'ng-input')))\n",
    "mydivs2 = soup.findAll(\"span\",class_=\"inbox-item-list-card active\")\n",
    "\n",
    "mydivs = list(mydivs + mydivs2)"
   ],
   "metadata": {
    "collapsed": false
   }
  },
  {
   "cell_type": "code",
   "execution_count": null,
   "outputs": [],
   "source": [
    "driver.get(hjh_fb)"
   ],
   "metadata": {
    "collapsed": false
   }
  },
  {
   "cell_type": "code",
   "execution_count": null,
   "outputs": [],
   "source": [
    "len(mydivs)"
   ],
   "metadata": {
    "collapsed": false
   }
  },
  {
   "cell_type": "code",
   "execution_count": null,
   "outputs": [],
   "source": [
    "mydivs"
   ],
   "metadata": {
    "collapsed": false
   }
  },
  {
   "cell_type": "code",
   "execution_count": null,
   "outputs": [],
   "source": [
    "len(mydivs2)"
   ],
   "metadata": {
    "collapsed": false
   }
  },
  {
   "cell_type": "code",
   "execution_count": null,
   "outputs": [],
   "source": [
    "mydivs"
   ],
   "metadata": {
    "collapsed": false
   }
  },
  {
   "cell_type": "code",
   "execution_count": null,
   "outputs": [],
   "source": [
    "fb_links"
   ],
   "metadata": {
    "collapsed": false
   }
  },
  {
   "cell_type": "code",
   "execution_count": null,
   "outputs": [],
   "source": [
    "num_links = len(fb_links + twt_links + ins_links + yt_links)\n",
    "#len(fb_links + ins_links + yt_links)\n",
    "num_links"
   ],
   "metadata": {
    "collapsed": false
   }
  },
  {
   "cell_type": "code",
   "execution_count": null,
   "outputs": [],
   "source": [],
   "metadata": {
    "collapsed": false
   }
  },
  {
   "cell_type": "code",
   "execution_count": null,
   "outputs": [],
   "source": [
    "all_links = fb_links + twt_links + ins_links + yt_links\n",
    "all_pages = fb_pages + twt_pages + ins_pages + yt_pages"
   ],
   "metadata": {
    "collapsed": false
   }
  },
  {
   "cell_type": "code",
   "execution_count": null,
   "outputs": [],
   "source": [
    "comments = []; indices = []\n",
    "\n",
    "for i in range(num_links):\n",
    "    link = all_links[i]\n",
    "    driver.get(link)\n",
    "    time.sleep(2)\n",
    "\n",
    "    htmlstring = driver.page_source\n",
    "    soup = BeautifulSoup(htmlstring, \"html.parser\")\n",
    "    #wait.until(EC.element_to_be_clickable((By.CLASS_NAME, 'ng-input')))\n",
    "    #mydivs = soup.findAll(\"span\",class_=\"item-card-message ng-star-inserted\")\n",
    "\n",
    "    #long_scroll(driver=driver)\n",
    "    time.sleep(1)\n",
    "    '''\n",
    "    try:\n",
    "        wait.until(EC.presence_of_all_elements_located((By.CLASS_NAME,'ng-input')))\n",
    "    except:\n",
    "        time.sleep(5)\n",
    "    '''\n",
    "    mydivs = soup.findAll(\"span\",class_=\"item-card-message ng-star-inserted\")\n",
    "    time.sleep(1)\n",
    "    #wait.until(EC.presence_of_all_elements_located((By.CLASS_NAME,'ng-input')))\n",
    "    #mydivs2 = soup.findAll(\"span\",class_=\"inbox-item-list-card active\")\n",
    "\n",
    "    mydivs = list(mydivs)\n",
    "    comments.append([])\n",
    "    indices.append(all_pages[i])\n",
    "\n",
    "    if len(mydivs) >0:\n",
    "         for div in mydivs:\n",
    "             try:\n",
    "                comments[i].append(str(div).split('\">')[-1].split('<')[0].strip())\n",
    "             except:\n",
    "                j = i\n",
    "    else:\n",
    "        comments[i] = ['']\n",
    "\n",
    "indices_column = []; comments_column = []\n",
    "for i in range(num_links):\n",
    "    if len(comments[i]) > 0:\n",
    "        for comm in comments[i]:\n",
    "            indices_column.append(indices[i])\n",
    "            comments_column.append(comm)\n",
    "\n",
    "\n",
    "\n",
    "platform, Business_Units = [], []\n",
    "\n",
    "for i in range(len(indices_column)):\n",
    "    social_media, bu = indices_column[i].split(' ')[0], indices_column[i].split(' ')[1]\n",
    "    platform.append(social_media);\n",
    "    Business_Units.append(bu)\n",
    "\n",
    "df = pd.DataFrame()\n",
    "df['Platform'] = platform\n",
    "df['Business Unit'] = Business_Units\n",
    "df['Comment / Mention'] = comments_column\n",
    "\n",
    "df = df[df['Comment / Mention'] != '']\n",
    "df.to_csv('Extracted SocialMediaComments/All data 17July2023/v1.csv', encoding='utf-8-sig', index=False)"
   ],
   "metadata": {
    "collapsed": false
   }
  },
  {
   "cell_type": "code",
   "execution_count": null,
   "outputs": [],
   "source": [
    "    link = \"https://app.agorapulse.com/inboxV2/instagram/34413?view=comment&tab=allItems&filter=approvedByManagerId&value=0&item=aWdfY29tbWVudDozMTQzNjkyMDg5ODkxOTk4NzI4OjE4MDI2MTkyMzQ3NTYyMTQ4\"\n",
    "    driver.get(link)\n",
    "    time.sleep(10)\n",
    "\n",
    "    htmlstring = driver.page_source\n",
    "    soup = BeautifulSoup(htmlstring, \"html.parser\")\n",
    "    mydivs = soup.findAll(\"span\",class_=\"item-card-message ng-star-inserted\")\n",
    "\n",
    "    mydivs"
   ],
   "metadata": {
    "collapsed": false
   }
  },
  {
   "cell_type": "code",
   "execution_count": null,
   "outputs": [],
   "source": [
    "for m in list(mydivs):\n",
    "    print(m,'****')"
   ],
   "metadata": {
    "collapsed": false
   }
  },
  {
   "cell_type": "code",
   "execution_count": null,
   "outputs": [],
   "source": [
    "link"
   ],
   "metadata": {
    "collapsed": false
   }
  },
  {
   "cell_type": "code",
   "execution_count": null,
   "outputs": [],
   "source": [
    "    mydivs = soup.findAll(\"div\",class_=\"item-card-body ng-star-inserted\")\n",
    "    mydivs"
   ],
   "metadata": {
    "collapsed": false
   }
  },
  {
   "cell_type": "code",
   "execution_count": null,
   "outputs": [],
   "source": [
    "comments"
   ],
   "metadata": {
    "collapsed": false
   }
  },
  {
   "cell_type": "code",
   "execution_count": null,
   "outputs": [],
   "source": [
    "indices"
   ],
   "metadata": {
    "collapsed": false
   }
  },
  {
   "cell_type": "code",
   "execution_count": null,
   "outputs": [],
   "source": [
    "indices_column = []; comments_column = []\n",
    "for i in range(num_links):\n",
    "    if len(comments[i]) > 0:\n",
    "        for comm in comments[i]:\n",
    "            indices_column.append(indices[i])\n",
    "            comments_column.append(comm)\n",
    "\n",
    "len(indices_column)"
   ],
   "metadata": {
    "collapsed": false
   }
  },
  {
   "cell_type": "code",
   "execution_count": null,
   "outputs": [],
   "source": [
    "len(comments_column)"
   ],
   "metadata": {
    "collapsed": false
   }
  },
  {
   "cell_type": "code",
   "execution_count": null,
   "outputs": [],
   "source": [
    "platform, Business_Units = [], []\n",
    "\n",
    "for i in range(len(indices_column)):\n",
    "    social_media,bu = indices_column[i].split(' ')[0],indices_column[i].split(' ')[1]\n",
    "    platform.append(social_media); Business_Units.append(bu)"
   ],
   "metadata": {
    "collapsed": false
   }
  },
  {
   "cell_type": "code",
   "execution_count": null,
   "outputs": [],
   "source": [
    "from datetime import datetime, timedelta\n",
    "\n",
    "current_date = datetime.now().date()\n",
    "current_date_column = [current_date]*len(platform)"
   ],
   "metadata": {
    "collapsed": false
   }
  },
  {
   "cell_type": "code",
   "execution_count": null,
   "outputs": [],
   "source": [
    "Business_Units"
   ],
   "metadata": {
    "collapsed": false
   }
  },
  {
   "cell_type": "code",
   "execution_count": null,
   "outputs": [],
   "source": [
    "df = pd.DataFrame()\n",
    "df['Platform'] = platform\n",
    "df['Business Unit'] = Business_Units\n",
    "df['Comment / Mention'] = comments_column\n",
    "df['Current date'] = current_date_column\n",
    "\n",
    "df = df[df['Comment / Mention'] != '']\n",
    "df.to_csv('Extracted SocialMediaComments/Hidden_data_17July/v1.csv',encoding='utf-8-sig',index=False)"
   ],
   "metadata": {
    "collapsed": false
   }
  },
  {
   "cell_type": "code",
   "execution_count": null,
   "outputs": [],
   "source": [
    "driver.get('https://app.agorapulse.com/inboxV2/instagram/163717?view=comment&tab=allItems&filter=approvedByManagerId&value=0&item=17993055005102468')\n",
    "time.sleep(10)\n",
    "\n",
    "htmlstring = driver.page_source\n",
    "soup = BeautifulSoup(htmlstring, \"html.parser\")\n",
    "\n",
    "long_scroll(driver=driver)"
   ],
   "metadata": {
    "collapsed": false
   }
  },
  {
   "cell_type": "code",
   "execution_count": null,
   "outputs": [],
   "source": [
    "mydivs = soup.find('div',class_='item-list-cards-container')"
   ],
   "metadata": {
    "collapsed": false
   }
  },
  {
   "cell_type": "code",
   "execution_count": null,
   "outputs": [],
   "source": [
    "mydivs"
   ],
   "metadata": {
    "collapsed": false
   }
  },
  {
   "cell_type": "code",
   "execution_count": null,
   "outputs": [],
   "source": [
    "len(mydivs)"
   ],
   "metadata": {
    "collapsed": false
   }
  },
  {
   "cell_type": "code",
   "execution_count": null,
   "outputs": [],
   "source": [
    "i = 0\n",
    "for div in mydivs:\n",
    "    if i <2:\n",
    "        print(div)\n",
    "        i+=1"
   ],
   "metadata": {
    "collapsed": false
   }
  },
  {
   "cell_type": "code",
   "execution_count": null,
   "outputs": [],
   "source": [
    "for div in mydivs:\n",
    "    try:\n",
    "        name = div.find(\"span\",class_=\"user-name\").text.strip()\n",
    "        days = div.find(\"span\",class_=\"creation-time-ago ng-star-inserted\").text.strip()\n",
    "        comment = div.find(\"span\",class_=\"item-card-message ng-star-inserted\").text.strip()\n",
    "        print(comment)\n",
    "    except:\n",
    "        comment=''"
   ],
   "metadata": {
    "collapsed": false
   }
  },
  {
   "cell_type": "code",
   "execution_count": null,
   "outputs": [],
   "source": [
    "mydivs"
   ],
   "metadata": {
    "collapsed": false
   }
  },
  {
   "cell_type": "code",
   "execution_count": null,
   "outputs": [],
   "source": [
    "comment"
   ],
   "metadata": {
    "collapsed": false
   }
  },
  {
   "cell_type": "code",
   "execution_count": null,
   "outputs": [],
   "source": [
    "comments = []; days = []; names = []; indices = [];dates_time = []\n",
    "\n",
    "for i in range(num_links):\n",
    "    link = all_links[i]\n",
    "    driver.get(link)\n",
    "\n",
    "    print(\"get link \",i)\n",
    "    link = input()\n",
    "    time.sleep(2)\n",
    "\n",
    "    htmlstring = driver.page_source\n",
    "    soup = BeautifulSoup(htmlstring, \"html.parser\")\n",
    "\n",
    "    long_scroll(driver=driver)\n",
    "    '''\n",
    "    try:\n",
    "        wait.until(EC.presence_of_all_elements_located((By.CLASS_NAME,'ng-input')))\n",
    "    except:\n",
    "        time.sleep(1)\n",
    "    '''\n",
    "    #mydivs = soup.findAll(\"ap-inbox-item-list-card\",class_=\"item-entry-container item-selected ng-star-inserted\")\n",
    "    mydivs = soup.find('div',class_='item-list-cards-container')\n",
    "\n",
    "    comments.append([]); days.append([]); names.append([]); dates_time.append([])\n",
    "    indices.append(all_pages[i])\n",
    "\n",
    "    if len(mydivs) > 0:\n",
    "            for div in mydivs:\n",
    "                try:\n",
    "                    name = div.findNext(\"span\",attrs={\"class\":\"user-name\"}).text.strip()\n",
    "                    day = div.findNext(\"span\",attrs={\"class\":\"creation-time-ago ng-star-inserted\"}).text.strip()\n",
    "                    comment = div.findNext(\"span\",attrs={\"class\":\"item-card-message ng-star-inserted\"}).text.strip()\n",
    "                    current_date = datetime.now().date()\n",
    "\n",
    "                    if ( len(comments[i]) == 0 ):\n",
    "                        names[i].append(name);  days[i].append(day); comments[i].append(comment)\n",
    "                        dates_time[i].append(current_date)\n",
    "                    elif ( comments[i][-1] != comment):\n",
    "                        names[i].append(name);  days[i].append(day); comments[i].append(comment)\n",
    "                        dates_time[i].append(current_date)\n",
    "\n",
    "                except:\n",
    "                    j = i\n",
    "    else:\n",
    "        comments[i] = ['']; days[i] = ['']; names[i] = ['']; dates_time[i] = ['']"
   ],
   "metadata": {
    "collapsed": false,
    "pycharm": {
     "is_executing": true
    }
   }
  },
  {
   "cell_type": "code",
   "execution_count": null,
   "outputs": [],
   "source": [
    "comments"
   ],
   "metadata": {
    "collapsed": false,
    "pycharm": {
     "is_executing": true
    }
   }
  },
  {
   "cell_type": "code",
   "execution_count": null,
   "outputs": [],
   "source": [
    "for div in mydivs:\n",
    "    print(div)\n",
    "    print('**************************************')"
   ],
   "metadata": {
    "collapsed": false
   }
  },
  {
   "cell_type": "code",
   "execution_count": null,
   "outputs": [],
   "source": [
    "list(mydivs)[0].findNext(\"span\",attrs={\"class\":\"user-name\"}).text.strip()"
   ],
   "metadata": {
    "collapsed": false
   }
  },
  {
   "cell_type": "code",
   "execution_count": null,
   "outputs": [],
   "source": [
    "indices_column = []; names_column = []\n",
    "comments_column = []; days_column = []\n",
    "for i in range(num_links):\n",
    "    if len(comments[i]) > 0:\n",
    "        for j in range(len(comments[i])):\n",
    "            indices_column.append(indices[i])\n",
    "            comments_column.append(comments[i][j])\n",
    "            names_column.append(names[i][j]);  days_column.append(days[i][j])"
   ],
   "metadata": {
    "collapsed": false
   }
  },
  {
   "cell_type": "code",
   "execution_count": null,
   "outputs": [],
   "source": [
    "len(indices_column)"
   ],
   "metadata": {
    "collapsed": false
   }
  },
  {
   "cell_type": "code",
   "execution_count": null,
   "outputs": [],
   "source": [
    "platform, Business_Units = [], []\n",
    "for i in range(len(indices_column)):\n",
    "    social_media, bu = indices_column[i].split(' ')[0], indices_column[i].split(' ')[1]\n",
    "\n",
    "    platform.append(social_media);\n",
    "    Business_Units.append(bu)\n",
    "df = pd.DataFrame()\n",
    "df['Platform'] = platform\n",
    "df['Business Unit'] = Business_Units\n",
    "df['Comment / Mention'] = comments_column\n",
    "df['Time ago'] = days_column\n",
    "df['Comment Author'] = names_column"
   ],
   "metadata": {
    "collapsed": false
   }
  },
  {
   "cell_type": "code",
   "execution_count": null,
   "outputs": [],
   "source": [
    "df"
   ],
   "metadata": {
    "collapsed": false
   }
  },
  {
   "cell_type": "code",
   "execution_count": null,
   "outputs": [],
   "source": [
    "len(df)"
   ],
   "metadata": {
    "collapsed": false
   }
  },
  {
   "cell_type": "code",
   "execution_count": null,
   "outputs": [],
   "source": [
    "len(df[df['Comment / Mention'] != ''])"
   ],
   "metadata": {
    "collapsed": false
   }
  },
  {
   "cell_type": "code",
   "execution_count": null,
   "outputs": [],
   "source": [
    "needed_date = dates_time[0][0]"
   ],
   "metadata": {
    "collapsed": false
   }
  },
  {
   "cell_type": "code",
   "execution_count": null,
   "outputs": [],
   "source": [
    "dates_time = [needed_date]*77\n",
    "\n",
    "df['Current date'] = dates_time"
   ],
   "metadata": {
    "collapsed": false
   }
  },
  {
   "cell_type": "code",
   "execution_count": null,
   "outputs": [],
   "source": [
    "df.to_csv('Extracted SocialMediaComments/Hidden_data_17July/v2.csv', encoding='utf-8-sig', index=False)"
   ],
   "metadata": {
    "collapsed": false
   }
  },
  {
   "cell_type": "markdown",
   "source": [
    "## Merge two dataframes"
   ],
   "metadata": {
    "collapsed": false
   }
  },
  {
   "cell_type": "code",
   "execution_count": null,
   "outputs": [],
   "source": [
    "df2 = df[:]"
   ],
   "metadata": {
    "collapsed": false
   }
  },
  {
   "cell_type": "code",
   "execution_count": null,
   "outputs": [],
   "source": [
    "df2"
   ],
   "metadata": {
    "collapsed": false
   }
  },
  {
   "cell_type": "code",
   "execution_count": null,
   "outputs": [],
   "source": [
    "df2"
   ],
   "metadata": {
    "collapsed": false
   }
  },
  {
   "cell_type": "code",
   "execution_count": null,
   "outputs": [],
   "source": [
    "df1 = pd.read_csv('Extracted SocialMediaComments/Hidden_data_17July/v1.csv')\n",
    "df1"
   ],
   "metadata": {
    "collapsed": false
   }
  },
  {
   "cell_type": "code",
   "execution_count": null,
   "outputs": [],
   "source": [
    "df1.drop(columns=['Current date'],inplace=True)"
   ],
   "metadata": {
    "collapsed": false
   }
  },
  {
   "cell_type": "code",
   "execution_count": null,
   "outputs": [],
   "source": [
    "merged_df = pd.merge(df1, df2, on=['Platform', 'Business Unit', 'Comment / Mention'],how='right')"
   ],
   "metadata": {
    "collapsed": false
   }
  },
  {
   "cell_type": "code",
   "execution_count": null,
   "outputs": [],
   "source": [
    "merged_df"
   ],
   "metadata": {
    "collapsed": false
   }
  },
  {
   "cell_type": "code",
   "execution_count": null,
   "outputs": [],
   "source": [
    "len(merged_df)"
   ],
   "metadata": {
    "collapsed": false
   }
  },
  {
   "cell_type": "code",
   "execution_count": null,
   "outputs": [],
   "source": [
    "merged_df.to_csv('Extracted SocialMediaComments/Hidden_data_17July/v3.csv', encoding='utf-8-sig', index=False)"
   ],
   "metadata": {
    "collapsed": false
   }
  },
  {
   "cell_type": "code",
   "execution_count": null,
   "outputs": [],
   "source": [
    "merged_df_old = pd.read_csv('Extracted SocialMediaComments/16-7-2023 - 10-15/merged_16-7-2023.csv')\n",
    "merged_df_old"
   ],
   "metadata": {
    "collapsed": false
   }
  },
  {
   "cell_type": "code",
   "execution_count": null,
   "outputs": [],
   "source": [
    "df_out = pd.merge(merged_df, merged_df_old, on=['Platform', 'Business Unit', 'Comment / Mention','Current date','Comment Author','Time ago'],how='inner')\n",
    "\n",
    "df_out"
   ],
   "metadata": {
    "collapsed": false
   }
  },
  {
   "cell_type": "code",
   "execution_count": null,
   "outputs": [],
   "source": [
    "#df_out.drop_duplicates(inplace=True)"
   ],
   "metadata": {
    "collapsed": false
   }
  },
  {
   "cell_type": "code",
   "execution_count": null,
   "outputs": [],
   "source": [
    "df_out.to_csv('Extracted SocialMediaComments/16-7-2023_extracted_merged.csv', encoding='utf-8-sig', index=False)"
   ],
   "metadata": {
    "collapsed": false
   }
  },
  {
   "cell_type": "markdown",
   "source": [
    "# First Four days Scraping Collection - AD Hoc"
   ],
   "metadata": {
    "collapsed": false
   }
  },
  {
   "cell_type": "code",
   "execution_count": null,
   "outputs": [],
   "source": [
    "df_13_7 = pd.read_csv('Extracted SocialMediaComments/13-7-2023/Merged/v1.csv')\n",
    "df_13_7.dropna(subset=['Comment Author'], inplace=True)\n",
    "df_13_7"
   ],
   "metadata": {
    "collapsed": false
   }
  },
  {
   "cell_type": "code",
   "execution_count": null,
   "outputs": [],
   "source": [
    "df_16_7_v1 = pd.read_csv('Extracted SocialMediaComments/16-7-2023 - 10-15/merged_16-7-2023.csv')\n",
    "df_16_7_v2 = pd.read_csv('Extracted SocialMediaComments/16-7-2023 - 10-30/v3_merged.csv')\n",
    "df_16_7_v1.drop_duplicates(inplace=True)\n",
    "df_16_7_v2.drop_duplicates(inplace=True)"
   ],
   "metadata": {
    "collapsed": false
   }
  },
  {
   "cell_type": "code",
   "execution_count": null,
   "outputs": [],
   "source": [
    "df_16_7_v1"
   ],
   "metadata": {
    "collapsed": false
   }
  },
  {
   "cell_type": "code",
   "execution_count": null,
   "outputs": [],
   "source": [
    "df_16_7_v2"
   ],
   "metadata": {
    "collapsed": false
   }
  },
  {
   "cell_type": "code",
   "execution_count": null,
   "outputs": [],
   "source": [
    "df_16_7 = pd.merge(df_16_7_v1, df_16_7_v2, on=['Platform', 'Business Unit', 'Comment / Mention','Current date','Comment Author','Time ago'],how='outer')\n",
    "\n",
    "df_16_7"
   ],
   "metadata": {
    "collapsed": false
   }
  },
  {
   "cell_type": "code",
   "execution_count": null,
   "outputs": [],
   "source": [
    "previous_date = datetime.now().date() - timedelta(days=3)\n",
    "\n",
    "previous_date"
   ],
   "metadata": {
    "collapsed": false
   }
  },
  {
   "cell_type": "code",
   "execution_count": null,
   "outputs": [],
   "source": [
    "df_13_7['Current date'] =previous_date\n",
    "df_13_7"
   ],
   "metadata": {
    "collapsed": false
   }
  },
  {
   "cell_type": "code",
   "execution_count": null,
   "outputs": [],
   "source": [
    "df_16_7 = df_16_7[df_16_7['Time ago'] != '3 days ago']\n",
    "df_16_7 = df_16_7[df_16_7['Time ago'] != '4 days ago']\n",
    "df_16_7 = df_16_7[df_16_7['Time ago'] != '5 days ago']\n",
    "df_16_7 = df_16_7[df_16_7['Time ago'] != '8 days ago']\n",
    "df_16_7 = df_16_7[df_16_7['Time ago'] != '15 days ago']\n",
    "df_16_7 = df_16_7[df_16_7['Time ago'] != '16 days ago']\n",
    "df_16_7 = df_16_7[df_16_7['Time ago'] != 'a month ago']\n",
    "df_16_7 = df_16_7[df_16_7['Time ago'] != '2 months ago']\n",
    "df_16_7"
   ],
   "metadata": {
    "collapsed": false
   }
  },
  {
   "cell_type": "code",
   "execution_count": null,
   "outputs": [],
   "source": [
    "df_16_7['Time ago'].tolist()"
   ],
   "metadata": {
    "collapsed": false
   }
  },
  {
   "cell_type": "code",
   "execution_count": null,
   "outputs": [],
   "source": [
    "df_since_13_7 = pd.merge(df_16_7, df_13_7, on=['Platform', 'Business Unit', 'Comment / Mention','Current date','Comment Author','Time ago'],how='outer')\n",
    "df_since_13_7"
   ],
   "metadata": {
    "collapsed": false
   }
  },
  {
   "cell_type": "code",
   "execution_count": null,
   "outputs": [],
   "source": [
    "df_since_13_7 = df_since_13_7.sort_values(by=['Platform', 'Business Unit'], ascending=[True, False])\n",
    "df_since_13_7"
   ],
   "metadata": {
    "collapsed": false
   }
  },
  {
   "cell_type": "code",
   "execution_count": null,
   "outputs": [],
   "source": [
    "df_since_13_7.to_csv('Extracted SocialMediaComments/since_13_7.csv',index=False,encoding='utf-8-sig')"
   ],
   "metadata": {
    "collapsed": false
   }
  },
  {
   "cell_type": "code",
   "execution_count": null,
   "outputs": [],
   "source": [
    "df_since_13_7.drop_duplicates(inplace=True)"
   ],
   "metadata": {
    "collapsed": false
   }
  },
  {
   "cell_type": "code",
   "execution_count": null,
   "outputs": [],
   "source": [
    "import re\n",
    "\n",
    "def gm_date(rev_date,needed_date):\n",
    "    days_vol = {\"day\": 1, \"week\": 7, \"month\": 30, \"year\": 365}\n",
    "    text = rev_date.split()\n",
    "    text[0] = re.sub(r'an?', '1', text[0])\n",
    "    text[1] = text[1].rstrip('s')\n",
    "    num_hours = int(text[0]) * int(text[1] == \"hour\")\n",
    "\n",
    "    try:\n",
    "        duration = days_vol[text[1]]\n",
    "    except KeyError:\n",
    "        duration = 0\n",
    "    num_days = int(text[0])*duration\n",
    "\n",
    "    return get_day(needed_date,num_days, num_hours, day_only=False)\n",
    "\n",
    "def get_day(needed_date, past_days=0, past_hours=0, day_only=True,):\n",
    "    ret = needed_date - timedelta(days=past_days, hours=past_hours)\n",
    "\n",
    "    return ret.date() if day_only else ret"
   ],
   "metadata": {
    "collapsed": false
   }
  },
  {
   "cell_type": "code",
   "execution_count": null,
   "outputs": [],
   "source": [
    "datetime.now().date()"
   ],
   "metadata": {
    "collapsed": false
   }
  },
  {
   "cell_type": "code",
   "execution_count": null,
   "outputs": [],
   "source": [
    "datetime.now().date().strftime('%Y-%m-%d %H:%M')"
   ],
   "metadata": {
    "collapsed": false
   }
  },
  {
   "cell_type": "code",
   "execution_count": null,
   "outputs": [],
   "source": [
    "current_datetime = datetime.now()\n",
    "\n",
    "modified_datetime = current_datetime - timedelta(days=2,hours=20,minutes=44)\n",
    "\n",
    "# Format the modified datetime\n",
    "#previous_date = modified_datetime.strftime('%Y-%m-%d %H:%M')\n",
    "modified_datetime"
   ],
   "metadata": {
    "collapsed": false
   }
  },
  {
   "cell_type": "code",
   "execution_count": null,
   "outputs": [],
   "source": [
    "current_datetime = datetime.now()\n",
    "\n",
    "current_datetime = current_datetime - timedelta(hours=3,minutes=44)\n",
    "\n",
    "# Format the modified datetime\n",
    "#previous_date = modified_datetime.strftime('%Y-%m-%d %H:%M')\n",
    "current_datetime"
   ],
   "metadata": {
    "collapsed": false
   }
  },
  {
   "cell_type": "code",
   "execution_count": null,
   "outputs": [],
   "source": [
    "str(df_since_13_7['Current date'].tolist()[0]) == '2023-07-16'"
   ],
   "metadata": {
    "collapsed": false
   }
  },
  {
   "cell_type": "code",
   "execution_count": null,
   "outputs": [],
   "source": [
    "current_datetime"
   ],
   "metadata": {
    "collapsed": false
   }
  },
  {
   "cell_type": "code",
   "execution_count": null,
   "outputs": [],
   "source": [
    "previous_datetime ="
   ],
   "metadata": {
    "collapsed": false
   }
  },
  {
   "cell_type": "code",
   "execution_count": null,
   "outputs": [],
   "source": [
    "current_date_column[i]"
   ],
   "metadata": {
    "collapsed": false
   }
  },
  {
   "cell_type": "code",
   "execution_count": null,
   "outputs": [],
   "source": [
    "time_ago = df_since_13_7['Time ago'].tolist()\n",
    "current_date_column = df_since_13_7['Current date'].tolist()"
   ],
   "metadata": {
    "collapsed": false
   }
  },
  {
   "cell_type": "code",
   "execution_count": null,
   "outputs": [],
   "source": [
    "\n",
    "dates_column = []\n",
    "\n",
    "for i in range(len(current_date_column)):\n",
    "\n",
    "    if str(current_date_column[i]) == '2023-07-16':\n",
    "        dates_column.append(gm_date( time_ago[i] ,current_datetime))\n",
    "    elif str(current_date_column[i]) == '2023-07-13':\n",
    "        dates_column.append(gm_date( time_ago[i] ,modified_datetime))"
   ],
   "metadata": {
    "collapsed": false
   }
  },
  {
   "cell_type": "code",
   "execution_count": null,
   "outputs": [],
   "source": [
    "dates_column"
   ],
   "metadata": {
    "collapsed": false
   }
  },
  {
   "cell_type": "code",
   "execution_count": null,
   "outputs": [],
   "source": [
    "df_since_13_7"
   ],
   "metadata": {
    "collapsed": false
   }
  },
  {
   "cell_type": "code",
   "execution_count": null,
   "outputs": [],
   "source": [
    "df_since_13_7['Current date'] = dates_column\n",
    "df_since_13_7"
   ],
   "metadata": {
    "collapsed": false
   }
  },
  {
   "cell_type": "code",
   "execution_count": null,
   "outputs": [],
   "source": [
    "df_since_13_7.drop(columns=['Time ago'],inplace=True)"
   ],
   "metadata": {
    "collapsed": false
   }
  },
  {
   "cell_type": "code",
   "execution_count": null,
   "outputs": [],
   "source": [
    "df_since_13_7_2 = df_since_13_7[['Platform','Business Unit','Comment Author','Comment / Mention','Current date']]\n",
    "df_since_13_7_2"
   ],
   "metadata": {
    "collapsed": false
   }
  },
  {
   "cell_type": "code",
   "execution_count": null,
   "outputs": [],
   "source": [
    "df_since_13_7_2.to_csv('Extracted SocialMediaComments/since_13_7.csv',index=False,encoding='utf-8-sig')"
   ],
   "metadata": {
    "collapsed": false
   }
  },
  {
   "cell_type": "code",
   "execution_count": null,
   "outputs": [],
   "source": [
    "gm_date(df_since_13_7['Time ago'].values[0],needed_date= previous_date)"
   ],
   "metadata": {
    "collapsed": false
   }
  },
  {
   "cell_type": "code",
   "execution_count": null,
   "outputs": [],
   "source": [
    "df_since_13_7_2.to_csv('Extracted SocialMediaComments/Agora-pulse/Agora_comments.csv',index=False,encoding='utf-8-sig')"
   ],
   "metadata": {
    "collapsed": false
   }
  },
  {
   "cell_type": "code",
   "execution_count": null,
   "outputs": [],
   "source": [
    "df_since_13_7['Time ago'].values[0]"
   ],
   "metadata": {
    "collapsed": false
   }
  },
  {
   "cell_type": "code",
   "execution_count": null,
   "outputs": [],
   "source": [
    "for i in range(len(comments)):\n",
    "    comments[i]"
   ],
   "metadata": {
    "collapsed": false
   }
  },
  {
   "cell_type": "code",
   "execution_count": null,
   "outputs": [],
   "source": [
    "comments = []; indices = []\n",
    "\n",
    "for i in range(6):\n",
    "    link = fb_links[i]\n",
    "    driver.get(link)\n",
    "    time.sleep(10)\n",
    "\n",
    "    htmlstring = driver.page_source\n",
    "    soup = BeautifulSoup(htmlstring, \"html.parser\")\n",
    "    #wait.until(EC.element_to_be_clickable((By.CLASS_NAME, 'ng-input')))\n",
    "    #mydivs = soup.findAll(\"span\",class_=\"item-card-message ng-star-inserted\")\n",
    "\n",
    "    long_scroll(driver=driver)\n",
    "    wait.until(EC.presence_of_all_elements_located((By.CLASS_NAME,'ng-input')))\n",
    "    mydivs = soup.findAll(\"span\",class_=\"item-card-message ng-star-inserted\")\n",
    "\n",
    "\n",
    "    # mydivs = list(mydivs + mydivs2)\n",
    "\n",
    "    comments.append([])\n",
    "    indices.append(fb_pages[i])\n",
    "    print(mydivs[:])\n",
    "    '''\n",
    "    if len(mydivs) >0:\n",
    "            for div in mydivs:\n",
    "                try:\n",
    "                    comments[i].append(str(div).split('\">')[-1].split('</')[0].strip())\n",
    "                except:\n",
    "                    j = i\n",
    "\n",
    "    else:\n",
    "        comments[i] = ['']\n",
    "    '''"
   ],
   "metadata": {
    "collapsed": false
   }
  },
  {
   "cell_type": "code",
   "execution_count": null,
   "outputs": [],
   "source": [
    "comments"
   ],
   "metadata": {
    "collapsed": false
   }
  },
  {
   "cell_type": "code",
   "execution_count": null,
   "outputs": [],
   "source": [
    "mydivs"
   ],
   "metadata": {
    "collapsed": false
   }
  },
  {
   "cell_type": "code",
   "execution_count": null,
   "outputs": [],
   "source": [
    "mydivs = soup.findAll(\"span\",class_=\"ng-star-inserted\")\n",
    "mydivs"
   ],
   "metadata": {
    "collapsed": false
   }
  },
  {
   "cell_type": "code",
   "execution_count": null,
   "outputs": [],
   "source": [
    "mydivs = soup.find(\"div\",class_=\"item-list-cards-container\")\n",
    "mydivs"
   ],
   "metadata": {
    "collapsed": false
   }
  },
  {
   "cell_type": "code",
   "execution_count": null,
   "outputs": [],
   "source": [],
   "metadata": {
    "collapsed": false
   }
  },
  {
   "cell_type": "code",
   "execution_count": null,
   "outputs": [],
   "source": [
    "driver.get('https://app.agorapulse.com/inboxV2/facebook/170260?item=t_910533399799039')\n",
    "time.sleep(10)\n",
    "\n",
    "htmlstring = driver.page_source\n",
    "soup = BeautifulSoup(htmlstring, \"html.parser\")\n",
    "#wait.until(EC.element_to_be_clickable((By.CLASS_NAME, 'ng-input')))\n",
    "#mydivs = soup.findAll(\"span\",class_=\"item-card-message ng-star-inserted\")\n",
    "\n",
    "long_scroll(driver=driver)\n",
    "wait.until(EC.presence_of_all_elements_located((By.CLASS_NAME,'ng-input')))\n",
    "mydivs = soup.findAll(\"span\",class_=\"ng-star-inserted\")"
   ],
   "metadata": {
    "collapsed": false
   }
  },
  {
   "cell_type": "code",
   "execution_count": null,
   "outputs": [],
   "source": [
    "comments=soup.find_all(\"ap-inbox-item-list-card\",attrs={'id':\"inboxListItemCardTrack\"})"
   ],
   "metadata": {
    "collapsed": false
   }
  },
  {
   "cell_type": "code",
   "execution_count": null,
   "outputs": [],
   "source": [
    "comments"
   ],
   "metadata": {
    "collapsed": false
   }
  },
  {
   "cell_type": "code",
   "execution_count": null,
   "outputs": [],
   "source": [],
   "metadata": {
    "collapsed": false
   }
  },
  {
   "cell_type": "code",
   "execution_count": null,
   "outputs": [],
   "source": [],
   "metadata": {
    "collapsed": false
   }
  },
  {
   "cell_type": "code",
   "execution_count": null,
   "outputs": [],
   "source": [
    "comments[0]"
   ],
   "metadata": {
    "collapsed": false
   }
  },
  {
   "cell_type": "code",
   "execution_count": null,
   "outputs": [],
   "source": [
    "def is_comment(item_list_card:BeautifulSoup):\n",
    "    message_view_box=\"0 0 24 24\"\n",
    "    return item_list_card.find(\"div\",class_=\"item-card-subtitle\").find_next('svg').find_next().find_next_sibling()is None"
   ],
   "metadata": {
    "collapsed": false
   }
  },
  {
   "cell_type": "code",
   "execution_count": null,
   "outputs": [],
   "source": [
    "comments[0].find('svg')"
   ],
   "metadata": {
    "collapsed": false
   }
  },
  {
   "cell_type": "code",
   "execution_count": null,
   "outputs": [],
   "source": [
    "comments[2].find(\"div\",class_=\"item-card-subtitle\").find_next('svg').find_all_next()"
   ],
   "metadata": {
    "collapsed": false
   }
  },
  {
   "cell_type": "code",
   "execution_count": null,
   "outputs": [],
   "source": [
    "comments[2]"
   ],
   "metadata": {
    "collapsed": false
   }
  },
  {
   "cell_type": "code",
   "execution_count": null,
   "outputs": [],
   "source": [
    "is_comment(comments[7])"
   ],
   "metadata": {
    "collapsed": false
   }
  },
  {
   "cell_type": "code",
   "execution_count": null,
   "outputs": [],
   "source": [
    "combo_box=soup.find(\"div\",attrs={'role':'combobox','class':\"ng-input\"})"
   ],
   "metadata": {
    "collapsed": false
   }
  },
  {
   "cell_type": "code",
   "execution_count": null,
   "outputs": [],
   "source": [
    "len(combo_box)"
   ],
   "metadata": {
    "collapsed": false
   }
  },
  {
   "cell_type": "code",
   "execution_count": null,
   "outputs": [],
   "source": [
    "len(mydivs)"
   ],
   "metadata": {
    "collapsed": false
   }
  },
  {
   "cell_type": "code",
   "execution_count": null,
   "outputs": [],
   "source": [
    "mynames = soup.findAll(\"span\",class_=\"item-card-title\")\n",
    "mynames"
   ],
   "metadata": {
    "collapsed": false
   }
  },
  {
   "cell_type": "code",
   "execution_count": null,
   "outputs": [],
   "source": [
    "str(mynames[0]).split('\">')[-1].split('</')[0].strip()"
   ],
   "metadata": {
    "collapsed": false
   }
  },
  {
   "cell_type": "code",
   "execution_count": null,
   "outputs": [],
   "source": [
    "len(mynames)"
   ],
   "metadata": {
    "collapsed": false
   }
  },
  {
   "cell_type": "code",
   "execution_count": null,
   "outputs": [],
   "source": [
    "from selenium import webdriver\n",
    "from selenium.webdriver.support.ui import WebDriverWait"
   ],
   "metadata": {
    "collapsed": false
   }
  },
  {
   "cell_type": "code",
   "execution_count": null,
   "outputs": [],
   "source": [
    "from selenium import webdriver\n",
    "from webdriver_manager.chrome import ChromeDriverManager\n",
    "\n",
    "driver = webdriver.Chrome('chromedriver.exe')"
   ],
   "metadata": {
    "collapsed": false
   }
  },
  {
   "cell_type": "markdown",
   "source": [
    "## Merge all data until 17 July - Hidden all comments"
   ],
   "metadata": {
    "collapsed": false
   }
  },
  {
   "cell_type": "code",
   "execution_count": null,
   "outputs": [],
   "source": [
    "import pandas as pd\n",
    "'''\n",
    "df_16 = pd.read_csv('Extracted SocialMediaComments/Previous data to 17th July 2023/agora_16.csv')\n",
    "df_17 = pd.read_csv('Extracted SocialMediaComments/Previous data to 17th July 2023/agora17.csv')\n",
    "df_hid= pd.read_csv('Extracted SocialMediaComments/Previous data to 17th July 2023/agora_hidden.csv')\n",
    "'''\n",
    "df = pd.read_csv('Extracted SocialMediaComments/Previous data to 17th July 2023/Collected to July 18th/collected.xlsx')"
   ],
   "metadata": {
    "collapsed": false
   }
  },
  {
   "cell_type": "code",
   "execution_count": null,
   "outputs": [],
   "source": [
    "df_16.drop(columns=['cleaned','inquiry'],inplace=True)\n",
    "df_16['message feature'] = 'Shown comment'\n",
    "df_16"
   ],
   "metadata": {
    "collapsed": false
   }
  },
  {
   "cell_type": "code",
   "execution_count": null,
   "outputs": [],
   "source": [
    "df_17.drop(columns=['cleaned','inquiry'],inplace=True)\n",
    "df_17['message feature'] = 'Shown comment'\n",
    "\n",
    "df_17"
   ],
   "metadata": {
    "collapsed": false
   }
  },
  {
   "cell_type": "code",
   "execution_count": null,
   "outputs": [],
   "source": [
    "df_hid.drop(columns=['cleaned','inquiry'],inplace=True)\n",
    "df_hid['message feature'] = 'Hidden comment'\n",
    "\n",
    "df_hid"
   ],
   "metadata": {
    "collapsed": false
   }
  },
  {
   "cell_type": "code",
   "execution_count": null,
   "outputs": [],
   "source": [
    "#df = pd.merge(df_16, df_17, on=['Platform', 'Business Unit', 'message'],how='left')\n",
    "#df = pd.merge(df, df_hid, on=['Platform', 'Business Unit', 'message'],how='outer')\n",
    "df = pd.concat([df_16, df_17, df_hid])\n",
    "df.reset_index(drop=True, inplace=True)\n",
    "df.drop(columns = ['Date'],inplace=True)\n",
    "\n",
    "df"
   ],
   "metadata": {
    "collapsed": false
   }
  },
  {
   "cell_type": "code",
   "execution_count": null,
   "outputs": [],
   "source": [
    "df_sorted = df.sort_values(by=['Platform', 'Business Unit'], ascending=[True, True])\n",
    "df_sorted"
   ],
   "metadata": {
    "collapsed": false
   }
  },
  {
   "cell_type": "code",
   "execution_count": null,
   "outputs": [],
   "source": [
    "df_sorted.to_csv('Extracted SocialMediaComments/Previous data to 17th July 2023/all_data.csv', encoding='utf-8-sig', index=False)"
   ],
   "metadata": {
    "collapsed": false
   }
  },
  {
   "cell_type": "code",
   "execution_count": null,
   "outputs": [],
   "source": [
    "df = df_sorted"
   ],
   "metadata": {
    "collapsed": false
   }
  },
  {
   "cell_type": "code",
   "execution_count": null,
   "outputs": [],
   "source": [
    "def transform_tags(tag):\n",
    "    ls = []\n",
    "    if 'price' in tag:\n",
    "        ls.append('Price')\n",
    "    if 'place' in tag:\n",
    "        ls.append('Hospital')\n",
    "    if 'datetime' in tag:\n",
    "        ls.append('WaitTime')\n",
    "    if 'Booking' in tag:\n",
    "        ls.append('Reception')\n",
    "    if 'insurance' in tag:\n",
    "        ls.append('Reception')\n",
    "    if 'structure' in tag:\n",
    "        ls.append('Reception')\n",
    "        ls.append('Hospital')\n",
    "    if 'service' in tag:\n",
    "        ls.append('Hospital')\n",
    "    if 'Medical_consult' in tag:\n",
    "        ls.append('Hospital')\n",
    "\n",
    "    ls = list(set(ls))\n",
    "    e = ' / '.join(str(e) for e in ls)\n",
    "    return e\n"
   ],
   "metadata": {
    "collapsed": false
   }
  },
  {
   "cell_type": "code",
   "execution_count": null,
   "outputs": [],
   "source": [
    "tags = df.tags.tolist()\n",
    "tags_output = []\n",
    "\n",
    "for i in range(len(tags)):\n",
    "    if type(tags[i]) == str:\n",
    "        out = transform_tags(tags[i])\n",
    "    else:\n",
    "        out = ' '\n",
    "    tags_output.append(out)\n",
    "tags_output"
   ],
   "metadata": {
    "collapsed": false
   }
  },
  {
   "cell_type": "code",
   "execution_count": null,
   "outputs": [],
   "source": [
    "df['tags'] = tags_output[:]\n",
    "df.to_csv('Extracted SocialMediaComments/Previous data to 17th July 2023/all_data.csv', encoding='utf-8-sig', index=False)"
   ],
   "metadata": {
    "collapsed": false
   }
  },
  {
   "cell_type": "code",
   "execution_count": null,
   "outputs": [],
   "source": [
    "import pandas as pd\n",
    "df = pd.read_csv('Extracted SocialMediaComments/Previous data to 17th July 2023/all_data.csv')\n",
    "\n",
    "df"
   ],
   "metadata": {
    "collapsed": false
   }
  },
  {
   "cell_type": "code",
   "execution_count": null,
   "outputs": [],
   "source": [
    "for i in [75,76,77,78,99,103,104,105,131,146,147,148,149,157,163,164,165,167,168,182,186,187]:\n",
    "    j = i-2\n",
    "    print(df.message.iloc[j],'*****')\n",
    "    df.predicted.iloc[j] = 'neg'\n",
    "    df.ALL_Categories.iloc[j] = 'Negative-Feedback'"
   ],
   "metadata": {
    "collapsed": false
   }
  },
  {
   "cell_type": "code",
   "execution_count": null,
   "outputs": [],
   "source": [
    "df"
   ],
   "metadata": {
    "collapsed": false
   }
  },
  {
   "cell_type": "code",
   "execution_count": null,
   "outputs": [],
   "source": [
    "df[df['ALL_Categories'] =='Negative-Feedback']"
   ],
   "metadata": {
    "collapsed": false
   }
  },
  {
   "cell_type": "code",
   "execution_count": 25,
   "outputs": [],
   "source": [
    "df.to_csv('Extracted SocialMediaComments/Previous data to 17th July 2023/all_data2.csv', encoding='utf-8-sig', index=False)"
   ],
   "metadata": {
    "collapsed": false,
    "ExecuteTime": {
     "end_time": "2023-07-18T14:43:23.017100Z",
     "start_time": "2023-07-18T14:43:17.898143800Z"
    }
   }
  },
  {
   "cell_type": "code",
   "execution_count": 27,
   "outputs": [
    {
     "data": {
      "text/plain": "     Platform Business Unit Comment Author  \\\n0    FaceBook           ADC  Facebook user   \n1    FaceBook           ADC     نمر الجنوب   \n2    FaceBook           ADC   محمد الحطامي   \n3    FaceBook           ADC    Yusuf Jalal   \n4    FaceBook           ADC  بلال سعد محمد   \n..        ...           ...            ...   \n182   Youtube           ADC       Rhrc Dkr   \n183   Youtube           ADC       Rhrc Dkr   \n184   Youtube           ADC        ddd ggg   \n185   Youtube           ADC     Be ControL   \n186   Youtube           AKW    Hamid Hamid   \n\n                                               message  \\\n0    السلام عليكم \\nبكام الضرس ولاني من مكان بعيد ه...   \n1          كم يوم يتم الزراعه عدد اربعه اسنان فوق وتحت   \n2                                        ضرس بكم لاهنت   \n3                                            كم السعر؟   \n4                                             كم السعر   \n..                                                 ...   \n182                                              ❤❤❤❤😊   \n183  تبع مرحبا مليون مبروك يا ابو محمد وعلى آل محمد...   \n184  الغبي ضيع أسنانه لانه اختار تركيبة ولم يختار ز...   \n185  بسبب اسعاركم الفلكية نويت اسافر مصر وازرع هناك...   \n186  @Andalusia Dental Centers - مراكز أندلسية لطب ...   \n\n                   Current date predicted                         tags  \\\n0    2023-07-15 22:37:02.418854       obj             Hospital / Price   \n1    2023-07-15 22:37:02.418854       obj  WaitTime / Price / Hospital   \n2    2023-07-15 22:37:02.418854       obj             Hospital / Price   \n3    2023-07-15 21:37:02.418854       obj                        Price   \n4    2023-07-15 20:37:02.418854       obj                        Price   \n..                          ...       ...                          ...   \n182                         NaN       obj                                \n183                         NaN       obj                    Reception   \n184                         NaN       neg                     Hospital   \n185                         NaN       neg             Hospital / Price   \n186  2023-07-08 17:36:49.385136       obj         Hospital / Reception   \n\n           ALL_Categories message feature  \n0         Mixed-Inquiries   Shown comment  \n1         Mixed-Inquiries   Shown comment  \n2         Mixed-Inquiries   Shown comment  \n3           Price-Inquiry   Shown comment  \n4           Price-Inquiry   Shown comment  \n..                    ...             ...  \n182  General Conversation  Hidden comment  \n183     Insurance-Inquiry  Hidden comment  \n184     Negative-Feedback  Hidden comment  \n185     Negative-Feedback  Hidden comment  \n186       Mixed-Inquiries   Shown comment  \n\n[187 rows x 9 columns]",
      "text/html": "<div>\n<style scoped>\n    .dataframe tbody tr th:only-of-type {\n        vertical-align: middle;\n    }\n\n    .dataframe tbody tr th {\n        vertical-align: top;\n    }\n\n    .dataframe thead th {\n        text-align: right;\n    }\n</style>\n<table border=\"1\" class=\"dataframe\">\n  <thead>\n    <tr style=\"text-align: right;\">\n      <th></th>\n      <th>Platform</th>\n      <th>Business Unit</th>\n      <th>Comment Author</th>\n      <th>message</th>\n      <th>Current date</th>\n      <th>predicted</th>\n      <th>tags</th>\n      <th>ALL_Categories</th>\n      <th>message feature</th>\n    </tr>\n  </thead>\n  <tbody>\n    <tr>\n      <th>0</th>\n      <td>FaceBook</td>\n      <td>ADC</td>\n      <td>Facebook user</td>\n      <td>السلام عليكم \\nبكام الضرس ولاني من مكان بعيد ه...</td>\n      <td>2023-07-15 22:37:02.418854</td>\n      <td>obj</td>\n      <td>Hospital / Price</td>\n      <td>Mixed-Inquiries</td>\n      <td>Shown comment</td>\n    </tr>\n    <tr>\n      <th>1</th>\n      <td>FaceBook</td>\n      <td>ADC</td>\n      <td>نمر الجنوب</td>\n      <td>كم يوم يتم الزراعه عدد اربعه اسنان فوق وتحت</td>\n      <td>2023-07-15 22:37:02.418854</td>\n      <td>obj</td>\n      <td>WaitTime / Price / Hospital</td>\n      <td>Mixed-Inquiries</td>\n      <td>Shown comment</td>\n    </tr>\n    <tr>\n      <th>2</th>\n      <td>FaceBook</td>\n      <td>ADC</td>\n      <td>محمد الحطامي</td>\n      <td>ضرس بكم لاهنت</td>\n      <td>2023-07-15 22:37:02.418854</td>\n      <td>obj</td>\n      <td>Hospital / Price</td>\n      <td>Mixed-Inquiries</td>\n      <td>Shown comment</td>\n    </tr>\n    <tr>\n      <th>3</th>\n      <td>FaceBook</td>\n      <td>ADC</td>\n      <td>Yusuf Jalal</td>\n      <td>كم السعر؟</td>\n      <td>2023-07-15 21:37:02.418854</td>\n      <td>obj</td>\n      <td>Price</td>\n      <td>Price-Inquiry</td>\n      <td>Shown comment</td>\n    </tr>\n    <tr>\n      <th>4</th>\n      <td>FaceBook</td>\n      <td>ADC</td>\n      <td>بلال سعد محمد</td>\n      <td>كم السعر</td>\n      <td>2023-07-15 20:37:02.418854</td>\n      <td>obj</td>\n      <td>Price</td>\n      <td>Price-Inquiry</td>\n      <td>Shown comment</td>\n    </tr>\n    <tr>\n      <th>...</th>\n      <td>...</td>\n      <td>...</td>\n      <td>...</td>\n      <td>...</td>\n      <td>...</td>\n      <td>...</td>\n      <td>...</td>\n      <td>...</td>\n      <td>...</td>\n    </tr>\n    <tr>\n      <th>182</th>\n      <td>Youtube</td>\n      <td>ADC</td>\n      <td>Rhrc Dkr</td>\n      <td>❤❤❤❤😊</td>\n      <td>NaN</td>\n      <td>obj</td>\n      <td></td>\n      <td>General Conversation</td>\n      <td>Hidden comment</td>\n    </tr>\n    <tr>\n      <th>183</th>\n      <td>Youtube</td>\n      <td>ADC</td>\n      <td>Rhrc Dkr</td>\n      <td>تبع مرحبا مليون مبروك يا ابو محمد وعلى آل محمد...</td>\n      <td>NaN</td>\n      <td>obj</td>\n      <td>Reception</td>\n      <td>Insurance-Inquiry</td>\n      <td>Hidden comment</td>\n    </tr>\n    <tr>\n      <th>184</th>\n      <td>Youtube</td>\n      <td>ADC</td>\n      <td>ddd ggg</td>\n      <td>الغبي ضيع أسنانه لانه اختار تركيبة ولم يختار ز...</td>\n      <td>NaN</td>\n      <td>neg</td>\n      <td>Hospital</td>\n      <td>Negative-Feedback</td>\n      <td>Hidden comment</td>\n    </tr>\n    <tr>\n      <th>185</th>\n      <td>Youtube</td>\n      <td>ADC</td>\n      <td>Be ControL</td>\n      <td>بسبب اسعاركم الفلكية نويت اسافر مصر وازرع هناك...</td>\n      <td>NaN</td>\n      <td>neg</td>\n      <td>Hospital / Price</td>\n      <td>Negative-Feedback</td>\n      <td>Hidden comment</td>\n    </tr>\n    <tr>\n      <th>186</th>\n      <td>Youtube</td>\n      <td>AKW</td>\n      <td>Hamid Hamid</td>\n      <td>@Andalusia Dental Centers - مراكز أندلسية لطب ...</td>\n      <td>2023-07-08 17:36:49.385136</td>\n      <td>obj</td>\n      <td>Hospital / Reception</td>\n      <td>Mixed-Inquiries</td>\n      <td>Shown comment</td>\n    </tr>\n  </tbody>\n</table>\n<p>187 rows × 9 columns</p>\n</div>"
     },
     "execution_count": 27,
     "metadata": {},
     "output_type": "execute_result"
    }
   ],
   "source": [
    "df"
   ],
   "metadata": {
    "collapsed": false,
    "ExecuteTime": {
     "end_time": "2023-07-18T15:03:34.942477900Z",
     "start_time": "2023-07-18T15:03:34.895984800Z"
    }
   }
  },
  {
   "cell_type": "code",
   "execution_count": null,
   "outputs": [],
   "source": [
    "df.to_csv('Extracted SocialMediaComments/Previous data to 17th July 2023/all_data.csv', encoding='utf-8-sig', index=False)"
   ],
   "metadata": {
    "collapsed": false
   }
  },
  {
   "cell_type": "code",
   "execution_count": 31,
   "outputs": [
    {
     "data": {
      "text/plain": "     Platform Business Unit Comment Author  \\\n0    FaceBook           ADC  Facebook user   \n1    FaceBook           ADC     نمر الجنوب   \n2    FaceBook           ADC   محمد الحطامي   \n3    FaceBook           ADC    Yusuf Jalal   \n4    FaceBook           ADC  بلال سعد محمد   \n..        ...           ...            ...   \n182   Youtube           ADC       Rhrc Dkr   \n183   Youtube           ADC       Rhrc Dkr   \n184   Youtube           ADC        ddd ggg   \n185   Youtube           ADC     Be ControL   \n186   Youtube           AKW    Hamid Hamid   \n\n                                               message  \\\n0    السلام عليكم \\nبكام الضرس ولاني من مكان بعيد ه...   \n1          كم يوم يتم الزراعه عدد اربعه اسنان فوق وتحت   \n2                                        ضرس بكم لاهنت   \n3                                            كم السعر؟   \n4                                             كم السعر   \n..                                                 ...   \n182                                              ❤❤❤❤😊   \n183  تبع مرحبا مليون مبروك يا ابو محمد وعلى آل محمد...   \n184  الغبي ضيع أسنانه لانه اختار تركيبة ولم يختار ز...   \n185  بسبب اسعاركم الفلكية نويت اسافر مصر وازرع هناك...   \n186  @Andalusia Dental Centers - مراكز أندلسية لطب ...   \n\n                   Current date predicted                         tags  \\\n0    2023-07-15 22:37:02.418854       obj             Hospital / Price   \n1    2023-07-15 22:37:02.418854       obj  WaitTime / Price / Hospital   \n2    2023-07-15 22:37:02.418854       obj             Hospital / Price   \n3    2023-07-15 21:37:02.418854       obj                        Price   \n4    2023-07-15 20:37:02.418854       obj                        Price   \n..                          ...       ...                          ...   \n182                         NaN       obj                                \n183                         NaN       obj                    Reception   \n184                         NaN       obj                     Hospital   \n185                         NaN       neg             Hospital / Price   \n186  2023-07-08 17:36:49.385136       obj         Hospital / Reception   \n\n           ALL_Categories message feature  \n0         Mixed-Inquiries   Shown comment  \n1         Mixed-Inquiries   Shown comment  \n2         Mixed-Inquiries   Shown comment  \n3           Price-Inquiry   Shown comment  \n4           Price-Inquiry   Shown comment  \n..                    ...             ...  \n182  General Conversation  Hidden comment  \n183     Insurance-Inquiry  Hidden comment  \n184  Medical-Consultation  Hidden comment  \n185     Negative-Feedback  Hidden comment  \n186       Mixed-Inquiries   Shown comment  \n\n[187 rows x 9 columns]",
      "text/html": "<div>\n<style scoped>\n    .dataframe tbody tr th:only-of-type {\n        vertical-align: middle;\n    }\n\n    .dataframe tbody tr th {\n        vertical-align: top;\n    }\n\n    .dataframe thead th {\n        text-align: right;\n    }\n</style>\n<table border=\"1\" class=\"dataframe\">\n  <thead>\n    <tr style=\"text-align: right;\">\n      <th></th>\n      <th>Platform</th>\n      <th>Business Unit</th>\n      <th>Comment Author</th>\n      <th>message</th>\n      <th>Current date</th>\n      <th>predicted</th>\n      <th>tags</th>\n      <th>ALL_Categories</th>\n      <th>message feature</th>\n    </tr>\n  </thead>\n  <tbody>\n    <tr>\n      <th>0</th>\n      <td>FaceBook</td>\n      <td>ADC</td>\n      <td>Facebook user</td>\n      <td>السلام عليكم \\nبكام الضرس ولاني من مكان بعيد ه...</td>\n      <td>2023-07-15 22:37:02.418854</td>\n      <td>obj</td>\n      <td>Hospital / Price</td>\n      <td>Mixed-Inquiries</td>\n      <td>Shown comment</td>\n    </tr>\n    <tr>\n      <th>1</th>\n      <td>FaceBook</td>\n      <td>ADC</td>\n      <td>نمر الجنوب</td>\n      <td>كم يوم يتم الزراعه عدد اربعه اسنان فوق وتحت</td>\n      <td>2023-07-15 22:37:02.418854</td>\n      <td>obj</td>\n      <td>WaitTime / Price / Hospital</td>\n      <td>Mixed-Inquiries</td>\n      <td>Shown comment</td>\n    </tr>\n    <tr>\n      <th>2</th>\n      <td>FaceBook</td>\n      <td>ADC</td>\n      <td>محمد الحطامي</td>\n      <td>ضرس بكم لاهنت</td>\n      <td>2023-07-15 22:37:02.418854</td>\n      <td>obj</td>\n      <td>Hospital / Price</td>\n      <td>Mixed-Inquiries</td>\n      <td>Shown comment</td>\n    </tr>\n    <tr>\n      <th>3</th>\n      <td>FaceBook</td>\n      <td>ADC</td>\n      <td>Yusuf Jalal</td>\n      <td>كم السعر؟</td>\n      <td>2023-07-15 21:37:02.418854</td>\n      <td>obj</td>\n      <td>Price</td>\n      <td>Price-Inquiry</td>\n      <td>Shown comment</td>\n    </tr>\n    <tr>\n      <th>4</th>\n      <td>FaceBook</td>\n      <td>ADC</td>\n      <td>بلال سعد محمد</td>\n      <td>كم السعر</td>\n      <td>2023-07-15 20:37:02.418854</td>\n      <td>obj</td>\n      <td>Price</td>\n      <td>Price-Inquiry</td>\n      <td>Shown comment</td>\n    </tr>\n    <tr>\n      <th>...</th>\n      <td>...</td>\n      <td>...</td>\n      <td>...</td>\n      <td>...</td>\n      <td>...</td>\n      <td>...</td>\n      <td>...</td>\n      <td>...</td>\n      <td>...</td>\n    </tr>\n    <tr>\n      <th>182</th>\n      <td>Youtube</td>\n      <td>ADC</td>\n      <td>Rhrc Dkr</td>\n      <td>❤❤❤❤😊</td>\n      <td>NaN</td>\n      <td>obj</td>\n      <td></td>\n      <td>General Conversation</td>\n      <td>Hidden comment</td>\n    </tr>\n    <tr>\n      <th>183</th>\n      <td>Youtube</td>\n      <td>ADC</td>\n      <td>Rhrc Dkr</td>\n      <td>تبع مرحبا مليون مبروك يا ابو محمد وعلى آل محمد...</td>\n      <td>NaN</td>\n      <td>obj</td>\n      <td>Reception</td>\n      <td>Insurance-Inquiry</td>\n      <td>Hidden comment</td>\n    </tr>\n    <tr>\n      <th>184</th>\n      <td>Youtube</td>\n      <td>ADC</td>\n      <td>ddd ggg</td>\n      <td>الغبي ضيع أسنانه لانه اختار تركيبة ولم يختار ز...</td>\n      <td>NaN</td>\n      <td>obj</td>\n      <td>Hospital</td>\n      <td>Medical-Consultation</td>\n      <td>Hidden comment</td>\n    </tr>\n    <tr>\n      <th>185</th>\n      <td>Youtube</td>\n      <td>ADC</td>\n      <td>Be ControL</td>\n      <td>بسبب اسعاركم الفلكية نويت اسافر مصر وازرع هناك...</td>\n      <td>NaN</td>\n      <td>neg</td>\n      <td>Hospital / Price</td>\n      <td>Negative-Feedback</td>\n      <td>Hidden comment</td>\n    </tr>\n    <tr>\n      <th>186</th>\n      <td>Youtube</td>\n      <td>AKW</td>\n      <td>Hamid Hamid</td>\n      <td>@Andalusia Dental Centers - مراكز أندلسية لطب ...</td>\n      <td>2023-07-08 17:36:49.385136</td>\n      <td>obj</td>\n      <td>Hospital / Reception</td>\n      <td>Mixed-Inquiries</td>\n      <td>Shown comment</td>\n    </tr>\n  </tbody>\n</table>\n<p>187 rows × 9 columns</p>\n</div>"
     },
     "execution_count": 31,
     "metadata": {},
     "output_type": "execute_result"
    }
   ],
   "source": [
    "df = pd.read_csv('Extracted SocialMediaComments/Previous data to 17th July 2023/Collected to July 17th/All data collected/all_data.csv')\n",
    "df"
   ],
   "metadata": {
    "collapsed": false,
    "ExecuteTime": {
     "end_time": "2023-07-18T15:52:55.255447300Z",
     "start_time": "2023-07-18T15:52:55.162667500Z"
    }
   }
  },
  {
   "cell_type": "code",
   "execution_count": 42,
   "outputs": [
    {
     "data": {
      "text/plain": "      Platform Business Unit            Comment Author  \\\n73    FaceBook           HJH              احمد الصعيدي   \n74    FaceBook           HJH            عبدالله العمري   \n75    FaceBook           HJH             Suzan Mostafa   \n76    FaceBook           HJH            رقت عيناي شوقآ   \n97   Instagram           ADC             hamatto__nory   \n101  Instagram           AHC               sylviaadeeb   \n102  Instagram           AHC                 ahmaad776   \n103  Instagram           AHC          naira_abdelrahim   \n129  Instagram           ALW                 m0000n0ny   \n144  Instagram           APC  uhgjvcffhbmjnbvcdxvbnncd   \n145  Instagram           APC               black8flame   \n146  Instagram           APC             jallo_alwakil   \n147  Instagram           APC                     yzn77   \n155  Instagram           HJH            abbdulllah_ali   \n161  Instagram           HJH         sharifa__alghamdi   \n162  Instagram           HJH                 dalnon511   \n163  Instagram           HJH                    lohy.5   \n165  Instagram           HJH             allahyani8557   \n166  Instagram           HJH            othman_bakar_u   \n180    Twitter           HJH       الاهلي عشق لا ينتهي   \n184    Youtube           ADC                   ddd ggg   \n185    Youtube           ADC                Be ControL   \n\n                                               message  \\\n73                          لي ما سويته لنفسك يا دكتور   \n74                 ماشاء الله تبارك الدكتور اصلع ههههه   \n75   حرام عليكم دي فاشله جدا وعذاب في المعده لاتضحك...   \n76   طب اعمل لنفسك بدل الصلعة اللي عندك دي دا لو ال...   \n97                  @ha1_ahli @halloma_121 @slwmywfwny   \n101  مانصحش اي حد بالتعامل معاهم ضحكو عليا واخدو ال...   \n102           @andalusiaahc ماحدش تواصل معي ماوصلني شي   \n103                 @andalusiaahc للاسف مفيش حاجه وصلت   \n129                  مختبرات التحاليل قصر معاكم بشي؟ 😂   \n144  هذا الدكتور نصاب راجعته  وضيع التحاليل وتشخيصه...   \n145       دائمآ الطبيعي افضل المنتجات ما تودي ولا تجيب   \n146             سعرها نزل ل ٦ الاف .. ليش رافعين السعر   \n147                                          كلام فاضي   \n155  انا تقريبا عند نفس الحاله الي بالصوره مع العلم...   \n161    ليش الاختلاط رجال ونساء .. اتقوا الله في انفسكم   \n162  لي مايتغطون زي المسلمين اذا هم مسلمين والاعلان...   \n163                        على كيفك تهبد عيد قبل رمضان   \n165                                  ليش ينحذف كلامي ؟   \n166                                ما ابيها لا تقنعوني   \n180            @Andalusiahj شهور عدت ولا اتواصلتو 👎👎👎👎   \n184  الغبي ضيع أسنانه لانه اختار تركيبة ولم يختار ز...   \n185  بسبب اسعاركم الفلكية نويت اسافر مصر وازرع هناك...   \n\n                   Current date predicted              tags  \\\n73                          NaN       obj                     \n74                          NaN       pos                     \n75                          NaN       obj          Hospital   \n76                          NaN       obj          Hospital   \n97                          NaN       obj                     \n101                         NaN       neg          Hospital   \n102                         NaN       obj          Hospital   \n103                         NaN       obj                     \n129                         NaN       obj          Hospital   \n144                         NaN       neg          Hospital   \n145                         NaN       neg                     \n146                         NaN       obj             Price   \n147                         NaN       neg                     \n155  2023-07-15 23:37:02.418854       obj          Hospital   \n161                         NaN       obj                     \n162                         NaN       pos                     \n163                         NaN       obj                     \n165                         NaN       obj                     \n166                         NaN       obj                     \n180  2023-07-13 11:36:49.385136       obj                     \n184                         NaN       obj          Hospital   \n185                         NaN       neg  Hospital / Price   \n\n           ALL_Categories message feature  \n73   General Conversation  Hidden comment  \n74      Positive-Feedback  Hidden comment  \n75   Medical-Consultation  Hidden comment  \n76   Medical-Consultation  Hidden comment  \n97   General Conversation  Hidden comment  \n101     Negative-Feedback  Hidden comment  \n102      Services-Inquiry  Hidden comment  \n103  General Conversation  Hidden comment  \n129  Medical-Consultation  Hidden comment  \n144     Negative-Feedback  Hidden comment  \n145     Negative-Feedback  Hidden comment  \n146         Price-Inquiry  Hidden comment  \n147     Negative-Feedback  Hidden comment  \n155  Medical-Consultation   Shown comment  \n161       General-Inquiry  Hidden comment  \n162     Positive-Feedback  Hidden comment  \n163  General Conversation  Hidden comment  \n165       General-Inquiry  Hidden comment  \n166  General Conversation  Hidden comment  \n180  General Conversation   Shown comment  \n184  Medical-Consultation  Hidden comment  \n185     Negative-Feedback  Hidden comment  ",
      "text/html": "<div>\n<style scoped>\n    .dataframe tbody tr th:only-of-type {\n        vertical-align: middle;\n    }\n\n    .dataframe tbody tr th {\n        vertical-align: top;\n    }\n\n    .dataframe thead th {\n        text-align: right;\n    }\n</style>\n<table border=\"1\" class=\"dataframe\">\n  <thead>\n    <tr style=\"text-align: right;\">\n      <th></th>\n      <th>Platform</th>\n      <th>Business Unit</th>\n      <th>Comment Author</th>\n      <th>message</th>\n      <th>Current date</th>\n      <th>predicted</th>\n      <th>tags</th>\n      <th>ALL_Categories</th>\n      <th>message feature</th>\n    </tr>\n  </thead>\n  <tbody>\n    <tr>\n      <th>73</th>\n      <td>FaceBook</td>\n      <td>HJH</td>\n      <td>احمد الصعيدي</td>\n      <td>لي ما سويته لنفسك يا دكتور</td>\n      <td>NaN</td>\n      <td>obj</td>\n      <td></td>\n      <td>General Conversation</td>\n      <td>Hidden comment</td>\n    </tr>\n    <tr>\n      <th>74</th>\n      <td>FaceBook</td>\n      <td>HJH</td>\n      <td>عبدالله العمري</td>\n      <td>ماشاء الله تبارك الدكتور اصلع ههههه</td>\n      <td>NaN</td>\n      <td>pos</td>\n      <td></td>\n      <td>Positive-Feedback</td>\n      <td>Hidden comment</td>\n    </tr>\n    <tr>\n      <th>75</th>\n      <td>FaceBook</td>\n      <td>HJH</td>\n      <td>Suzan Mostafa</td>\n      <td>حرام عليكم دي فاشله جدا وعذاب في المعده لاتضحك...</td>\n      <td>NaN</td>\n      <td>obj</td>\n      <td>Hospital</td>\n      <td>Medical-Consultation</td>\n      <td>Hidden comment</td>\n    </tr>\n    <tr>\n      <th>76</th>\n      <td>FaceBook</td>\n      <td>HJH</td>\n      <td>رقت عيناي شوقآ</td>\n      <td>طب اعمل لنفسك بدل الصلعة اللي عندك دي دا لو ال...</td>\n      <td>NaN</td>\n      <td>obj</td>\n      <td>Hospital</td>\n      <td>Medical-Consultation</td>\n      <td>Hidden comment</td>\n    </tr>\n    <tr>\n      <th>97</th>\n      <td>Instagram</td>\n      <td>ADC</td>\n      <td>hamatto__nory</td>\n      <td>@ha1_ahli @halloma_121 @slwmywfwny</td>\n      <td>NaN</td>\n      <td>obj</td>\n      <td></td>\n      <td>General Conversation</td>\n      <td>Hidden comment</td>\n    </tr>\n    <tr>\n      <th>101</th>\n      <td>Instagram</td>\n      <td>AHC</td>\n      <td>sylviaadeeb</td>\n      <td>مانصحش اي حد بالتعامل معاهم ضحكو عليا واخدو ال...</td>\n      <td>NaN</td>\n      <td>neg</td>\n      <td>Hospital</td>\n      <td>Negative-Feedback</td>\n      <td>Hidden comment</td>\n    </tr>\n    <tr>\n      <th>102</th>\n      <td>Instagram</td>\n      <td>AHC</td>\n      <td>ahmaad776</td>\n      <td>@andalusiaahc ماحدش تواصل معي ماوصلني شي</td>\n      <td>NaN</td>\n      <td>obj</td>\n      <td>Hospital</td>\n      <td>Services-Inquiry</td>\n      <td>Hidden comment</td>\n    </tr>\n    <tr>\n      <th>103</th>\n      <td>Instagram</td>\n      <td>AHC</td>\n      <td>naira_abdelrahim</td>\n      <td>@andalusiaahc للاسف مفيش حاجه وصلت</td>\n      <td>NaN</td>\n      <td>obj</td>\n      <td></td>\n      <td>General Conversation</td>\n      <td>Hidden comment</td>\n    </tr>\n    <tr>\n      <th>129</th>\n      <td>Instagram</td>\n      <td>ALW</td>\n      <td>m0000n0ny</td>\n      <td>مختبرات التحاليل قصر معاكم بشي؟ 😂</td>\n      <td>NaN</td>\n      <td>obj</td>\n      <td>Hospital</td>\n      <td>Medical-Consultation</td>\n      <td>Hidden comment</td>\n    </tr>\n    <tr>\n      <th>144</th>\n      <td>Instagram</td>\n      <td>APC</td>\n      <td>uhgjvcffhbmjnbvcdxvbnncd</td>\n      <td>هذا الدكتور نصاب راجعته  وضيع التحاليل وتشخيصه...</td>\n      <td>NaN</td>\n      <td>neg</td>\n      <td>Hospital</td>\n      <td>Negative-Feedback</td>\n      <td>Hidden comment</td>\n    </tr>\n    <tr>\n      <th>145</th>\n      <td>Instagram</td>\n      <td>APC</td>\n      <td>black8flame</td>\n      <td>دائمآ الطبيعي افضل المنتجات ما تودي ولا تجيب</td>\n      <td>NaN</td>\n      <td>neg</td>\n      <td></td>\n      <td>Negative-Feedback</td>\n      <td>Hidden comment</td>\n    </tr>\n    <tr>\n      <th>146</th>\n      <td>Instagram</td>\n      <td>APC</td>\n      <td>jallo_alwakil</td>\n      <td>سعرها نزل ل ٦ الاف .. ليش رافعين السعر</td>\n      <td>NaN</td>\n      <td>obj</td>\n      <td>Price</td>\n      <td>Price-Inquiry</td>\n      <td>Hidden comment</td>\n    </tr>\n    <tr>\n      <th>147</th>\n      <td>Instagram</td>\n      <td>APC</td>\n      <td>yzn77</td>\n      <td>كلام فاضي</td>\n      <td>NaN</td>\n      <td>neg</td>\n      <td></td>\n      <td>Negative-Feedback</td>\n      <td>Hidden comment</td>\n    </tr>\n    <tr>\n      <th>155</th>\n      <td>Instagram</td>\n      <td>HJH</td>\n      <td>abbdulllah_ali</td>\n      <td>انا تقريبا عند نفس الحاله الي بالصوره مع العلم...</td>\n      <td>2023-07-15 23:37:02.418854</td>\n      <td>obj</td>\n      <td>Hospital</td>\n      <td>Medical-Consultation</td>\n      <td>Shown comment</td>\n    </tr>\n    <tr>\n      <th>161</th>\n      <td>Instagram</td>\n      <td>HJH</td>\n      <td>sharifa__alghamdi</td>\n      <td>ليش الاختلاط رجال ونساء .. اتقوا الله في انفسكم</td>\n      <td>NaN</td>\n      <td>obj</td>\n      <td></td>\n      <td>General-Inquiry</td>\n      <td>Hidden comment</td>\n    </tr>\n    <tr>\n      <th>162</th>\n      <td>Instagram</td>\n      <td>HJH</td>\n      <td>dalnon511</td>\n      <td>لي مايتغطون زي المسلمين اذا هم مسلمين والاعلان...</td>\n      <td>NaN</td>\n      <td>pos</td>\n      <td></td>\n      <td>Positive-Feedback</td>\n      <td>Hidden comment</td>\n    </tr>\n    <tr>\n      <th>163</th>\n      <td>Instagram</td>\n      <td>HJH</td>\n      <td>lohy.5</td>\n      <td>على كيفك تهبد عيد قبل رمضان</td>\n      <td>NaN</td>\n      <td>obj</td>\n      <td></td>\n      <td>General Conversation</td>\n      <td>Hidden comment</td>\n    </tr>\n    <tr>\n      <th>165</th>\n      <td>Instagram</td>\n      <td>HJH</td>\n      <td>allahyani8557</td>\n      <td>ليش ينحذف كلامي ؟</td>\n      <td>NaN</td>\n      <td>obj</td>\n      <td></td>\n      <td>General-Inquiry</td>\n      <td>Hidden comment</td>\n    </tr>\n    <tr>\n      <th>166</th>\n      <td>Instagram</td>\n      <td>HJH</td>\n      <td>othman_bakar_u</td>\n      <td>ما ابيها لا تقنعوني</td>\n      <td>NaN</td>\n      <td>obj</td>\n      <td></td>\n      <td>General Conversation</td>\n      <td>Hidden comment</td>\n    </tr>\n    <tr>\n      <th>180</th>\n      <td>Twitter</td>\n      <td>HJH</td>\n      <td>الاهلي عشق لا ينتهي</td>\n      <td>@Andalusiahj شهور عدت ولا اتواصلتو 👎👎👎👎</td>\n      <td>2023-07-13 11:36:49.385136</td>\n      <td>obj</td>\n      <td></td>\n      <td>General Conversation</td>\n      <td>Shown comment</td>\n    </tr>\n    <tr>\n      <th>184</th>\n      <td>Youtube</td>\n      <td>ADC</td>\n      <td>ddd ggg</td>\n      <td>الغبي ضيع أسنانه لانه اختار تركيبة ولم يختار ز...</td>\n      <td>NaN</td>\n      <td>obj</td>\n      <td>Hospital</td>\n      <td>Medical-Consultation</td>\n      <td>Hidden comment</td>\n    </tr>\n    <tr>\n      <th>185</th>\n      <td>Youtube</td>\n      <td>ADC</td>\n      <td>Be ControL</td>\n      <td>بسبب اسعاركم الفلكية نويت اسافر مصر وازرع هناك...</td>\n      <td>NaN</td>\n      <td>neg</td>\n      <td>Hospital / Price</td>\n      <td>Negative-Feedback</td>\n      <td>Hidden comment</td>\n    </tr>\n  </tbody>\n</table>\n</div>"
     },
     "execution_count": 42,
     "metadata": {},
     "output_type": "execute_result"
    }
   ],
   "source": [
    "specified = [75, 76, 77, 78, 99, 103, 104, 105, 131, 146, 147, 148, 149, 157, 163, 164, 165, 167, 168, 182, 186, 187]\n",
    "specified_list = []\n",
    "for i in specified:\n",
    "    specified_list.append(i-2)\n",
    "filtered_df = df[df.index.isin(specified_list)]\n",
    "filtered_df"
   ],
   "metadata": {
    "collapsed": false,
    "ExecuteTime": {
     "end_time": "2023-07-18T16:01:06.424711500Z",
     "start_time": "2023-07-18T16:01:06.281378300Z"
    }
   }
  },
  {
   "cell_type": "code",
   "execution_count": 44,
   "outputs": [],
   "source": [
    "filtered_df.to_csv('Extracted SocialMediaComments/Previous data to 17th July 2023/Collected to July 17th/all_data_negative_missed.csv',index=False,encoding='utf-8-sig')"
   ],
   "metadata": {
    "collapsed": false,
    "ExecuteTime": {
     "end_time": "2023-07-18T16:02:55.851659Z",
     "start_time": "2023-07-18T16:02:55.812729Z"
    }
   }
  },
  {
   "cell_type": "code",
   "execution_count": 29,
   "outputs": [],
   "source": [],
   "metadata": {
    "collapsed": false,
    "ExecuteTime": {
     "end_time": "2023-07-18T15:50:59.674088100Z",
     "start_time": "2023-07-18T15:50:59.572564400Z"
    }
   }
  },
  {
   "cell_type": "code",
   "execution_count": null,
   "outputs": [],
   "source": [],
   "metadata": {
    "collapsed": false
   }
  }
 ],
 "metadata": {
  "kernelspec": {
   "display_name": "Python 3",
   "language": "python",
   "name": "python3"
  },
  "language_info": {
   "codemirror_mode": {
    "name": "ipython",
    "version": 2
   },
   "file_extension": ".py",
   "mimetype": "text/x-python",
   "name": "python",
   "nbconvert_exporter": "python",
   "pygments_lexer": "ipython2",
   "version": "2.7.6"
  }
 },
 "nbformat": 4,
 "nbformat_minor": 0
}
